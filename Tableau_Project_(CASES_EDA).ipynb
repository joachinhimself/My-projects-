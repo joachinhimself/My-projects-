{
  "nbformat": 4,
  "nbformat_minor": 0,
  "metadata": {
    "colab": {
      "name": "Tableau Project (CASES EDA)",
      "provenance": [],
      "collapsed_sections": [],
      "authorship_tag": "ABX9TyPy5OFQneUujH1o9pBvQ3OF",
      "include_colab_link": true
    },
    "kernelspec": {
      "display_name": "Python 3",
      "name": "python3"
    },
    "language_info": {
      "name": "python"
    }
  },
  "cells": [
    {
      "cell_type": "markdown",
      "metadata": {
        "id": "view-in-github",
        "colab_type": "text"
      },
      "source": [
        "<a href=\"https://colab.research.google.com/github/joachinhimself/My-projects-/blob/main/Tableau_Project_(CASES_EDA).ipynb\" target=\"_parent\"><img src=\"https://colab.research.google.com/assets/colab-badge.svg\" alt=\"Open In Colab\"/></a>"
      ]
    },
    {
      "cell_type": "code",
      "metadata": {
        "id": "vmA2MU6VBuda"
      },
      "source": [
        "import numpy as np\n",
        "import pandas as pd\n",
        "import matplotlib.pyplot as plt\n",
        "%matplotlib inline\n",
        "import seaborn as sns     "
      ],
      "execution_count": 10,
      "outputs": []
    },
    {
      "cell_type": "code",
      "metadata": {
        "id": "vLY57dut-suN",
        "colab": {
          "base_uri": "https://localhost:8080/"
        },
        "outputId": "2e19a266-d911-4849-9b7c-b3866b60db0f"
      },
      "source": [
        "df_cases = pd.read_csv('/content/sample_data/COVID-19 Cases.csv')"
      ],
      "execution_count": 11,
      "outputs": [
        {
          "output_type": "stream",
          "name": "stderr",
          "text": [
            "/usr/local/lib/python3.7/dist-packages/IPython/core/interactiveshell.py:2718: DtypeWarning: Columns (8) have mixed types.Specify dtype option on import or set low_memory=False.\n",
            "  interactivity=interactivity, compiler=compiler, result=result)\n"
          ]
        }
      ]
    },
    {
      "cell_type": "code",
      "metadata": {
        "colab": {
          "base_uri": "https://localhost:8080/",
          "height": 573
        },
        "id": "Ft3b7sleIB1p",
        "outputId": "f1a7f81a-faf8-42e8-eee3-1a0920d76bcb"
      },
      "source": [
        "df_cases.head()   "
      ],
      "execution_count": 12,
      "outputs": [
        {
          "output_type": "execute_result",
          "data": {
            "text/html": [
              "<div>\n",
              "<style scoped>\n",
              "    .dataframe tbody tr th:only-of-type {\n",
              "        vertical-align: middle;\n",
              "    }\n",
              "\n",
              "    .dataframe tbody tr th {\n",
              "        vertical-align: top;\n",
              "    }\n",
              "\n",
              "    .dataframe thead th {\n",
              "        text-align: right;\n",
              "    }\n",
              "</style>\n",
              "<table border=\"1\" class=\"dataframe\">\n",
              "  <thead>\n",
              "    <tr style=\"text-align: right;\">\n",
              "      <th></th>\n",
              "      <th>Case_Type</th>\n",
              "      <th>People_Total_Tested_Count</th>\n",
              "      <th>Cases</th>\n",
              "      <th>Difference</th>\n",
              "      <th>Date</th>\n",
              "      <th>Combined_Key</th>\n",
              "      <th>Country_Region</th>\n",
              "      <th>Province_State</th>\n",
              "      <th>Admin2</th>\n",
              "      <th>iso2</th>\n",
              "      <th>iso3</th>\n",
              "      <th>FIPS</th>\n",
              "      <th>Lat</th>\n",
              "      <th>Long</th>\n",
              "      <th>Population_Count</th>\n",
              "      <th>People_Hospitalized_Cumulative_Count</th>\n",
              "      <th>Data_Source</th>\n",
              "      <th>Prep_Flow_Runtime</th>\n",
              "    </tr>\n",
              "  </thead>\n",
              "  <tbody>\n",
              "    <tr>\n",
              "      <th>0</th>\n",
              "      <td>Confirmed</td>\n",
              "      <td>NaN</td>\n",
              "      <td>6</td>\n",
              "      <td>0</td>\n",
              "      <td>5/22/2020</td>\n",
              "      <td>Western Sahara</td>\n",
              "      <td>Western Sahara</td>\n",
              "      <td>NaN</td>\n",
              "      <td>NaN</td>\n",
              "      <td>EH</td>\n",
              "      <td>ESH</td>\n",
              "      <td>NaN</td>\n",
              "      <td>24.215500</td>\n",
              "      <td>-12.885800</td>\n",
              "      <td>597330.0</td>\n",
              "      <td>NaN</td>\n",
              "      <td>2019 Novel Coronavirus COVID-19 (2019-nCoV) Da...</td>\n",
              "      <td>6/4/2020 11:15:39 PM</td>\n",
              "    </tr>\n",
              "    <tr>\n",
              "      <th>1</th>\n",
              "      <td>Confirmed</td>\n",
              "      <td>NaN</td>\n",
              "      <td>0</td>\n",
              "      <td>0</td>\n",
              "      <td>2/3/2020</td>\n",
              "      <td>Switzerland</td>\n",
              "      <td>Switzerland</td>\n",
              "      <td>NaN</td>\n",
              "      <td>NaN</td>\n",
              "      <td>CH</td>\n",
              "      <td>CHE</td>\n",
              "      <td>NaN</td>\n",
              "      <td>46.818200</td>\n",
              "      <td>8.227500</td>\n",
              "      <td>8654618.0</td>\n",
              "      <td>NaN</td>\n",
              "      <td>2019 Novel Coronavirus COVID-19 (2019-nCoV) Da...</td>\n",
              "      <td>6/4/2020 11:15:39 PM</td>\n",
              "    </tr>\n",
              "    <tr>\n",
              "      <th>2</th>\n",
              "      <td>Deaths</td>\n",
              "      <td>NaN</td>\n",
              "      <td>0</td>\n",
              "      <td>0</td>\n",
              "      <td>3/1/2020</td>\n",
              "      <td>Cyprus</td>\n",
              "      <td>Cyprus</td>\n",
              "      <td>NaN</td>\n",
              "      <td>NaN</td>\n",
              "      <td>CY</td>\n",
              "      <td>CYP</td>\n",
              "      <td>NaN</td>\n",
              "      <td>35.126400</td>\n",
              "      <td>33.429900</td>\n",
              "      <td>1207361.0</td>\n",
              "      <td>NaN</td>\n",
              "      <td>2019 Novel Coronavirus COVID-19 (2019-nCoV) Da...</td>\n",
              "      <td>6/4/2020 11:15:39 PM</td>\n",
              "    </tr>\n",
              "    <tr>\n",
              "      <th>3</th>\n",
              "      <td>Confirmed</td>\n",
              "      <td>NaN</td>\n",
              "      <td>23</td>\n",
              "      <td>0</td>\n",
              "      <td>4/21/2020</td>\n",
              "      <td>Antigua and Barbuda</td>\n",
              "      <td>Antigua and Barbuda</td>\n",
              "      <td>NaN</td>\n",
              "      <td>NaN</td>\n",
              "      <td>AG</td>\n",
              "      <td>ATG</td>\n",
              "      <td>NaN</td>\n",
              "      <td>17.060800</td>\n",
              "      <td>-61.796400</td>\n",
              "      <td>97928.0</td>\n",
              "      <td>NaN</td>\n",
              "      <td>2019 Novel Coronavirus COVID-19 (2019-nCoV) Da...</td>\n",
              "      <td>6/4/2020 11:15:39 PM</td>\n",
              "    </tr>\n",
              "    <tr>\n",
              "      <th>4</th>\n",
              "      <td>Deaths</td>\n",
              "      <td>NaN</td>\n",
              "      <td>56</td>\n",
              "      <td>0</td>\n",
              "      <td>5/11/2020</td>\n",
              "      <td>Thailand</td>\n",
              "      <td>Thailand</td>\n",
              "      <td>NaN</td>\n",
              "      <td>NaN</td>\n",
              "      <td>TH</td>\n",
              "      <td>THA</td>\n",
              "      <td>NaN</td>\n",
              "      <td>15.870032</td>\n",
              "      <td>100.992541</td>\n",
              "      <td>69799978.0</td>\n",
              "      <td>NaN</td>\n",
              "      <td>2019 Novel Coronavirus COVID-19 (2019-nCoV) Da...</td>\n",
              "      <td>6/4/2020 11:15:39 PM</td>\n",
              "    </tr>\n",
              "  </tbody>\n",
              "</table>\n",
              "</div>"
            ],
            "text/plain": [
              "   Case_Type  ...     Prep_Flow_Runtime\n",
              "0  Confirmed  ...  6/4/2020 11:15:39 PM\n",
              "1  Confirmed  ...  6/4/2020 11:15:39 PM\n",
              "2     Deaths  ...  6/4/2020 11:15:39 PM\n",
              "3  Confirmed  ...  6/4/2020 11:15:39 PM\n",
              "4     Deaths  ...  6/4/2020 11:15:39 PM\n",
              "\n",
              "[5 rows x 18 columns]"
            ]
          },
          "metadata": {},
          "execution_count": 12
        }
      ]
    },
    {
      "cell_type": "code",
      "metadata": {
        "colab": {
          "base_uri": "https://localhost:8080/",
          "height": 1000
        },
        "id": "H8jXIlMO1bsH",
        "outputId": "d9d2bd51-c3d5-4cf6-fedc-d9bcfa37cce7"
      },
      "source": [
        "df_cases.sample(10)  "
      ],
      "execution_count": 13,
      "outputs": [
        {
          "output_type": "execute_result",
          "data": {
            "text/html": [
              "<div>\n",
              "<style scoped>\n",
              "    .dataframe tbody tr th:only-of-type {\n",
              "        vertical-align: middle;\n",
              "    }\n",
              "\n",
              "    .dataframe tbody tr th {\n",
              "        vertical-align: top;\n",
              "    }\n",
              "\n",
              "    .dataframe thead th {\n",
              "        text-align: right;\n",
              "    }\n",
              "</style>\n",
              "<table border=\"1\" class=\"dataframe\">\n",
              "  <thead>\n",
              "    <tr style=\"text-align: right;\">\n",
              "      <th></th>\n",
              "      <th>Case_Type</th>\n",
              "      <th>People_Total_Tested_Count</th>\n",
              "      <th>Cases</th>\n",
              "      <th>Difference</th>\n",
              "      <th>Date</th>\n",
              "      <th>Combined_Key</th>\n",
              "      <th>Country_Region</th>\n",
              "      <th>Province_State</th>\n",
              "      <th>Admin2</th>\n",
              "      <th>iso2</th>\n",
              "      <th>iso3</th>\n",
              "      <th>FIPS</th>\n",
              "      <th>Lat</th>\n",
              "      <th>Long</th>\n",
              "      <th>Population_Count</th>\n",
              "      <th>People_Hospitalized_Cumulative_Count</th>\n",
              "      <th>Data_Source</th>\n",
              "      <th>Prep_Flow_Runtime</th>\n",
              "    </tr>\n",
              "  </thead>\n",
              "  <tbody>\n",
              "    <tr>\n",
              "      <th>488564</th>\n",
              "      <td>Confirmed</td>\n",
              "      <td>NaN</td>\n",
              "      <td>0</td>\n",
              "      <td>0</td>\n",
              "      <td>1/25/2020</td>\n",
              "      <td>Jenkins, Georgia, US</td>\n",
              "      <td>US</td>\n",
              "      <td>Georgia</td>\n",
              "      <td>Jenkins</td>\n",
              "      <td>US</td>\n",
              "      <td>USA</td>\n",
              "      <td>13165.0</td>\n",
              "      <td>32.792487</td>\n",
              "      <td>-81.960402</td>\n",
              "      <td>8676.0</td>\n",
              "      <td>NaN</td>\n",
              "      <td>2019 Novel Coronavirus COVID-19 (2019-nCoV) Da...</td>\n",
              "      <td>6/4/2020 11:15:39 PM</td>\n",
              "    </tr>\n",
              "    <tr>\n",
              "      <th>177918</th>\n",
              "      <td>Confirmed</td>\n",
              "      <td>NaN</td>\n",
              "      <td>0</td>\n",
              "      <td>0</td>\n",
              "      <td>4/14/2020</td>\n",
              "      <td>White, Illinois, US</td>\n",
              "      <td>US</td>\n",
              "      <td>Illinois</td>\n",
              "      <td>White</td>\n",
              "      <td>US</td>\n",
              "      <td>USA</td>\n",
              "      <td>17193.0</td>\n",
              "      <td>38.087062</td>\n",
              "      <td>-88.176575</td>\n",
              "      <td>13537.0</td>\n",
              "      <td>NaN</td>\n",
              "      <td>2019 Novel Coronavirus COVID-19 (2019-nCoV) Da...</td>\n",
              "      <td>6/4/2020 11:15:39 PM</td>\n",
              "    </tr>\n",
              "    <tr>\n",
              "      <th>627232</th>\n",
              "      <td>Confirmed</td>\n",
              "      <td>NaN</td>\n",
              "      <td>0</td>\n",
              "      <td>0</td>\n",
              "      <td>1/27/2020</td>\n",
              "      <td>Amelia, Virginia, US</td>\n",
              "      <td>US</td>\n",
              "      <td>Virginia</td>\n",
              "      <td>Amelia</td>\n",
              "      <td>US</td>\n",
              "      <td>USA</td>\n",
              "      <td>51007.0</td>\n",
              "      <td>37.340810</td>\n",
              "      <td>-77.985846</td>\n",
              "      <td>13145.0</td>\n",
              "      <td>NaN</td>\n",
              "      <td>2019 Novel Coronavirus COVID-19 (2019-nCoV) Da...</td>\n",
              "      <td>6/4/2020 11:15:39 PM</td>\n",
              "    </tr>\n",
              "    <tr>\n",
              "      <th>545014</th>\n",
              "      <td>Confirmed</td>\n",
              "      <td>NaN</td>\n",
              "      <td>19</td>\n",
              "      <td>1</td>\n",
              "      <td>4/9/2020</td>\n",
              "      <td>Cedar, Iowa, US</td>\n",
              "      <td>US</td>\n",
              "      <td>Iowa</td>\n",
              "      <td>Cedar</td>\n",
              "      <td>US</td>\n",
              "      <td>USA</td>\n",
              "      <td>19031.0</td>\n",
              "      <td>41.772338</td>\n",
              "      <td>-91.132467</td>\n",
              "      <td>18627.0</td>\n",
              "      <td>NaN</td>\n",
              "      <td>2019 Novel Coronavirus COVID-19 (2019-nCoV) Da...</td>\n",
              "      <td>6/4/2020 11:15:39 PM</td>\n",
              "    </tr>\n",
              "    <tr>\n",
              "      <th>86199</th>\n",
              "      <td>Confirmed</td>\n",
              "      <td>NaN</td>\n",
              "      <td>10</td>\n",
              "      <td>0</td>\n",
              "      <td>4/7/2020</td>\n",
              "      <td>Blount, Alabama, US</td>\n",
              "      <td>US</td>\n",
              "      <td>Alabama</td>\n",
              "      <td>Blount</td>\n",
              "      <td>US</td>\n",
              "      <td>USA</td>\n",
              "      <td>1009.0</td>\n",
              "      <td>33.982109</td>\n",
              "      <td>-86.567906</td>\n",
              "      <td>57826.0</td>\n",
              "      <td>NaN</td>\n",
              "      <td>2019 Novel Coronavirus COVID-19 (2019-nCoV) Da...</td>\n",
              "      <td>6/4/2020 11:15:39 PM</td>\n",
              "    </tr>\n",
              "    <tr>\n",
              "      <th>357820</th>\n",
              "      <td>Deaths</td>\n",
              "      <td>NaN</td>\n",
              "      <td>0</td>\n",
              "      <td>0</td>\n",
              "      <td>2/8/2020</td>\n",
              "      <td>Kent, Delaware, US</td>\n",
              "      <td>US</td>\n",
              "      <td>Delaware</td>\n",
              "      <td>Kent</td>\n",
              "      <td>US</td>\n",
              "      <td>USA</td>\n",
              "      <td>10001.0</td>\n",
              "      <td>39.086466</td>\n",
              "      <td>-75.568849</td>\n",
              "      <td>180786.0</td>\n",
              "      <td>NaN</td>\n",
              "      <td>2019 Novel Coronavirus COVID-19 (2019-nCoV) Da...</td>\n",
              "      <td>6/4/2020 11:15:39 PM</td>\n",
              "    </tr>\n",
              "    <tr>\n",
              "      <th>49944</th>\n",
              "      <td>Deaths</td>\n",
              "      <td>NaN</td>\n",
              "      <td>9</td>\n",
              "      <td>1</td>\n",
              "      <td>6/3/2020</td>\n",
              "      <td>Nepal</td>\n",
              "      <td>Nepal</td>\n",
              "      <td>NaN</td>\n",
              "      <td>NaN</td>\n",
              "      <td>NP</td>\n",
              "      <td>NPL</td>\n",
              "      <td>NaN</td>\n",
              "      <td>28.166700</td>\n",
              "      <td>84.250000</td>\n",
              "      <td>29136808.0</td>\n",
              "      <td>NaN</td>\n",
              "      <td>2019 Novel Coronavirus COVID-19 (2019-nCoV) Da...</td>\n",
              "      <td>6/4/2020 11:15:39 PM</td>\n",
              "    </tr>\n",
              "    <tr>\n",
              "      <th>536760</th>\n",
              "      <td>Deaths</td>\n",
              "      <td>NaN</td>\n",
              "      <td>0</td>\n",
              "      <td>0</td>\n",
              "      <td>2/8/2020</td>\n",
              "      <td>Oneida, Idaho, US</td>\n",
              "      <td>US</td>\n",
              "      <td>Idaho</td>\n",
              "      <td>Oneida</td>\n",
              "      <td>US</td>\n",
              "      <td>USA</td>\n",
              "      <td>16071.0</td>\n",
              "      <td>42.194943</td>\n",
              "      <td>-112.540784</td>\n",
              "      <td>4531.0</td>\n",
              "      <td>NaN</td>\n",
              "      <td>2019 Novel Coronavirus COVID-19 (2019-nCoV) Da...</td>\n",
              "      <td>6/4/2020 11:15:39 PM</td>\n",
              "    </tr>\n",
              "    <tr>\n",
              "      <th>545309</th>\n",
              "      <td>Confirmed</td>\n",
              "      <td>NaN</td>\n",
              "      <td>72</td>\n",
              "      <td>14</td>\n",
              "      <td>5/22/2020</td>\n",
              "      <td>Wayne, Mississippi, US</td>\n",
              "      <td>US</td>\n",
              "      <td>Mississippi</td>\n",
              "      <td>Wayne</td>\n",
              "      <td>US</td>\n",
              "      <td>USA</td>\n",
              "      <td>28153.0</td>\n",
              "      <td>31.641357</td>\n",
              "      <td>-88.695739</td>\n",
              "      <td>20183.0</td>\n",
              "      <td>NaN</td>\n",
              "      <td>2019 Novel Coronavirus COVID-19 (2019-nCoV) Da...</td>\n",
              "      <td>6/4/2020 11:15:39 PM</td>\n",
              "    </tr>\n",
              "    <tr>\n",
              "      <th>360221</th>\n",
              "      <td>Deaths</td>\n",
              "      <td>NaN</td>\n",
              "      <td>1</td>\n",
              "      <td>0</td>\n",
              "      <td>4/29/2020</td>\n",
              "      <td>Webster, Mississippi, US</td>\n",
              "      <td>US</td>\n",
              "      <td>Mississippi</td>\n",
              "      <td>Webster</td>\n",
              "      <td>US</td>\n",
              "      <td>USA</td>\n",
              "      <td>28155.0</td>\n",
              "      <td>33.613005</td>\n",
              "      <td>-89.283929</td>\n",
              "      <td>9689.0</td>\n",
              "      <td>NaN</td>\n",
              "      <td>2019 Novel Coronavirus COVID-19 (2019-nCoV) Da...</td>\n",
              "      <td>6/4/2020 11:15:39 PM</td>\n",
              "    </tr>\n",
              "  </tbody>\n",
              "</table>\n",
              "</div>"
            ],
            "text/plain": [
              "        Case_Type  ...     Prep_Flow_Runtime\n",
              "488564  Confirmed  ...  6/4/2020 11:15:39 PM\n",
              "177918  Confirmed  ...  6/4/2020 11:15:39 PM\n",
              "627232  Confirmed  ...  6/4/2020 11:15:39 PM\n",
              "545014  Confirmed  ...  6/4/2020 11:15:39 PM\n",
              "86199   Confirmed  ...  6/4/2020 11:15:39 PM\n",
              "357820     Deaths  ...  6/4/2020 11:15:39 PM\n",
              "49944      Deaths  ...  6/4/2020 11:15:39 PM\n",
              "536760     Deaths  ...  6/4/2020 11:15:39 PM\n",
              "545309  Confirmed  ...  6/4/2020 11:15:39 PM\n",
              "360221     Deaths  ...  6/4/2020 11:15:39 PM\n",
              "\n",
              "[10 rows x 18 columns]"
            ]
          },
          "metadata": {},
          "execution_count": 13
        }
      ]
    },
    {
      "cell_type": "code",
      "metadata": {
        "colab": {
          "base_uri": "https://localhost:8080/"
        },
        "id": "eymAdPExDjHY",
        "outputId": "9ff92070-f7d9-4a90-d044-80bb4c42eca2"
      },
      "source": [
        "df_cases.shape"
      ],
      "execution_count": 14,
      "outputs": [
        {
          "output_type": "execute_result",
          "data": {
            "text/plain": [
              "(628086, 18)"
            ]
          },
          "metadata": {},
          "execution_count": 14
        }
      ]
    },
    {
      "cell_type": "code",
      "metadata": {
        "colab": {
          "base_uri": "https://localhost:8080/"
        },
        "id": "pveoIxbbEuKD",
        "outputId": "ebbf93ca-0cc5-4173-e6cb-44f51acbc863"
      },
      "source": [
        "df_cases.columns"
      ],
      "execution_count": 15,
      "outputs": [
        {
          "output_type": "execute_result",
          "data": {
            "text/plain": [
              "Index(['Case_Type', 'People_Total_Tested_Count', 'Cases', 'Difference', 'Date',\n",
              "       'Combined_Key', 'Country_Region', 'Province_State', 'Admin2', 'iso2',\n",
              "       'iso3', 'FIPS', 'Lat', 'Long', 'Population_Count',\n",
              "       'People_Hospitalized_Cumulative_Count', 'Data_Source',\n",
              "       'Prep_Flow_Runtime'],\n",
              "      dtype='object')"
            ]
          },
          "metadata": {},
          "execution_count": 15
        }
      ]
    },
    {
      "cell_type": "code",
      "metadata": {
        "colab": {
          "base_uri": "https://localhost:8080/"
        },
        "id": "5I3LN-IO7vx-",
        "outputId": "163cfacc-0f89-4296-b43c-68ee2cd52c0b"
      },
      "source": [
        "df_cases.dtypes"
      ],
      "execution_count": 16,
      "outputs": [
        {
          "output_type": "execute_result",
          "data": {
            "text/plain": [
              "Case_Type                                object\n",
              "People_Total_Tested_Count               float64\n",
              "Cases                                     int64\n",
              "Difference                                int64\n",
              "Date                                     object\n",
              "Combined_Key                             object\n",
              "Country_Region                           object\n",
              "Province_State                           object\n",
              "Admin2                                   object\n",
              "iso2                                     object\n",
              "iso3                                     object\n",
              "FIPS                                    float64\n",
              "Lat                                     float64\n",
              "Long                                    float64\n",
              "Population_Count                        float64\n",
              "People_Hospitalized_Cumulative_Count    float64\n",
              "Data_Source                              object\n",
              "Prep_Flow_Runtime                        object\n",
              "dtype: object"
            ]
          },
          "metadata": {},
          "execution_count": 16
        }
      ]
    },
    {
      "cell_type": "code",
      "metadata": {
        "id": "rInzahbWDuu6",
        "colab": {
          "base_uri": "https://localhost:8080/"
        },
        "outputId": "31754cd1-ef53-4a66-bd5d-0a6709f5cf4f"
      },
      "source": [
        "df_cases.info"
      ],
      "execution_count": 17,
      "outputs": [
        {
          "output_type": "execute_result",
          "data": {
            "text/plain": [
              "<bound method DataFrame.info of         Case_Type  ...     Prep_Flow_Runtime\n",
              "0       Confirmed  ...  6/4/2020 11:15:39 PM\n",
              "1       Confirmed  ...  6/4/2020 11:15:39 PM\n",
              "2          Deaths  ...  6/4/2020 11:15:39 PM\n",
              "3       Confirmed  ...  6/4/2020 11:15:39 PM\n",
              "4          Deaths  ...  6/4/2020 11:15:39 PM\n",
              "...           ...  ...                   ...\n",
              "628081     Deaths  ...  6/4/2020 11:15:39 PM\n",
              "628082     Deaths  ...  6/4/2020 11:15:39 PM\n",
              "628083     Deaths  ...  6/4/2020 11:15:39 PM\n",
              "628084     Deaths  ...  6/4/2020 11:15:39 PM\n",
              "628085     Deaths  ...                   NaN\n",
              "\n",
              "[628086 rows x 18 columns]>"
            ]
          },
          "metadata": {},
          "execution_count": 17
        }
      ]
    },
    {
      "cell_type": "code",
      "metadata": {
        "id": "VNJxDSv2EDze",
        "colab": {
          "base_uri": "https://localhost:8080/",
          "height": 484
        },
        "outputId": "04cdcdaf-26e2-4a7a-a62d-80475164b3b8"
      },
      "source": [
        "df_cases.describe(include='all')"
      ],
      "execution_count": 18,
      "outputs": [
        {
          "output_type": "execute_result",
          "data": {
            "text/html": [
              "<div>\n",
              "<style scoped>\n",
              "    .dataframe tbody tr th:only-of-type {\n",
              "        vertical-align: middle;\n",
              "    }\n",
              "\n",
              "    .dataframe tbody tr th {\n",
              "        vertical-align: top;\n",
              "    }\n",
              "\n",
              "    .dataframe thead th {\n",
              "        text-align: right;\n",
              "    }\n",
              "</style>\n",
              "<table border=\"1\" class=\"dataframe\">\n",
              "  <thead>\n",
              "    <tr style=\"text-align: right;\">\n",
              "      <th></th>\n",
              "      <th>Case_Type</th>\n",
              "      <th>People_Total_Tested_Count</th>\n",
              "      <th>Cases</th>\n",
              "      <th>Difference</th>\n",
              "      <th>Date</th>\n",
              "      <th>Combined_Key</th>\n",
              "      <th>Country_Region</th>\n",
              "      <th>Province_State</th>\n",
              "      <th>Admin2</th>\n",
              "      <th>iso2</th>\n",
              "      <th>iso3</th>\n",
              "      <th>FIPS</th>\n",
              "      <th>Lat</th>\n",
              "      <th>Long</th>\n",
              "      <th>Population_Count</th>\n",
              "      <th>People_Hospitalized_Cumulative_Count</th>\n",
              "      <th>Data_Source</th>\n",
              "      <th>Prep_Flow_Runtime</th>\n",
              "    </tr>\n",
              "  </thead>\n",
              "  <tbody>\n",
              "    <tr>\n",
              "      <th>count</th>\n",
              "      <td>628086</td>\n",
              "      <td>3.872000e+03</td>\n",
              "      <td>628086.000000</td>\n",
              "      <td>628086.000000</td>\n",
              "      <td>628086</td>\n",
              "      <td>628085</td>\n",
              "      <td>628085</td>\n",
              "      <td>579041</td>\n",
              "      <td>557005</td>\n",
              "      <td>627013</td>\n",
              "      <td>627281</td>\n",
              "      <td>538756.000000</td>\n",
              "      <td>609529.000000</td>\n",
              "      <td>609529.000000</td>\n",
              "      <td>6.095290e+05</td>\n",
              "      <td>3872.000000</td>\n",
              "      <td>628085</td>\n",
              "      <td>628085</td>\n",
              "    </tr>\n",
              "    <tr>\n",
              "      <th>unique</th>\n",
              "      <td>2</td>\n",
              "      <td>NaN</td>\n",
              "      <td>NaN</td>\n",
              "      <td>NaN</td>\n",
              "      <td>135</td>\n",
              "      <td>3521</td>\n",
              "      <td>187</td>\n",
              "      <td>135</td>\n",
              "      <td>1901</td>\n",
              "      <td>215</td>\n",
              "      <td>216</td>\n",
              "      <td>NaN</td>\n",
              "      <td>NaN</td>\n",
              "      <td>NaN</td>\n",
              "      <td>NaN</td>\n",
              "      <td>NaN</td>\n",
              "      <td>1</td>\n",
              "      <td>1</td>\n",
              "    </tr>\n",
              "    <tr>\n",
              "      <th>top</th>\n",
              "      <td>Confirmed</td>\n",
              "      <td>NaN</td>\n",
              "      <td>NaN</td>\n",
              "      <td>NaN</td>\n",
              "      <td>1/30/2020</td>\n",
              "      <td>Senegal</td>\n",
              "      <td>US</td>\n",
              "      <td>Texas</td>\n",
              "      <td>Unassigned</td>\n",
              "      <td>US</td>\n",
              "      <td>USA</td>\n",
              "      <td>NaN</td>\n",
              "      <td>NaN</td>\n",
              "      <td>NaN</td>\n",
              "      <td>NaN</td>\n",
              "      <td>NaN</td>\n",
              "      <td>2019 Novel Coronavirus COVID-19 (2019-nCoV) Da...</td>\n",
              "      <td>6/4/2020 11:15:39 PM</td>\n",
              "    </tr>\n",
              "    <tr>\n",
              "      <th>freq</th>\n",
              "      <td>314241</td>\n",
              "      <td>NaN</td>\n",
              "      <td>NaN</td>\n",
              "      <td>NaN</td>\n",
              "      <td>4786</td>\n",
              "      <td>268</td>\n",
              "      <td>557869</td>\n",
              "      <td>43769</td>\n",
              "      <td>8668</td>\n",
              "      <td>557005</td>\n",
              "      <td>557005</td>\n",
              "      <td>NaN</td>\n",
              "      <td>NaN</td>\n",
              "      <td>NaN</td>\n",
              "      <td>NaN</td>\n",
              "      <td>NaN</td>\n",
              "      <td>628085</td>\n",
              "      <td>628085</td>\n",
              "    </tr>\n",
              "    <tr>\n",
              "      <th>mean</th>\n",
              "      <td>NaN</td>\n",
              "      <td>1.688561e+05</td>\n",
              "      <td>371.747226</td>\n",
              "      <td>10.090910</td>\n",
              "      <td>NaN</td>\n",
              "      <td>NaN</td>\n",
              "      <td>NaN</td>\n",
              "      <td>NaN</td>\n",
              "      <td>NaN</td>\n",
              "      <td>NaN</td>\n",
              "      <td>NaN</td>\n",
              "      <td>30330.466733</td>\n",
              "      <td>36.468423</td>\n",
              "      <td>-79.077266</td>\n",
              "      <td>3.338874e+06</td>\n",
              "      <td>2572.514463</td>\n",
              "      <td>NaN</td>\n",
              "      <td>NaN</td>\n",
              "    </tr>\n",
              "    <tr>\n",
              "      <th>std</th>\n",
              "      <td>NaN</td>\n",
              "      <td>2.631369e+05</td>\n",
              "      <td>6282.999180</td>\n",
              "      <td>203.051987</td>\n",
              "      <td>NaN</td>\n",
              "      <td>NaN</td>\n",
              "      <td>NaN</td>\n",
              "      <td>NaN</td>\n",
              "      <td>NaN</td>\n",
              "      <td>NaN</td>\n",
              "      <td>NaN</td>\n",
              "      <td>15187.478614</td>\n",
              "      <td>11.270900</td>\n",
              "      <td>45.605510</td>\n",
              "      <td>3.255856e+07</td>\n",
              "      <td>9266.960981</td>\n",
              "      <td>NaN</td>\n",
              "      <td>NaN</td>\n",
              "    </tr>\n",
              "    <tr>\n",
              "      <th>min</th>\n",
              "      <td>NaN</td>\n",
              "      <td>3.000000e+00</td>\n",
              "      <td>0.000000</td>\n",
              "      <td>-10034.000000</td>\n",
              "      <td>NaN</td>\n",
              "      <td>NaN</td>\n",
              "      <td>NaN</td>\n",
              "      <td>NaN</td>\n",
              "      <td>NaN</td>\n",
              "      <td>NaN</td>\n",
              "      <td>NaN</td>\n",
              "      <td>60.000000</td>\n",
              "      <td>-51.796300</td>\n",
              "      <td>-174.159600</td>\n",
              "      <td>8.600000e+01</td>\n",
              "      <td>0.000000</td>\n",
              "      <td>NaN</td>\n",
              "      <td>NaN</td>\n",
              "    </tr>\n",
              "    <tr>\n",
              "      <th>25%</th>\n",
              "      <td>NaN</td>\n",
              "      <td>3.038900e+04</td>\n",
              "      <td>0.000000</td>\n",
              "      <td>0.000000</td>\n",
              "      <td>NaN</td>\n",
              "      <td>NaN</td>\n",
              "      <td>NaN</td>\n",
              "      <td>NaN</td>\n",
              "      <td>NaN</td>\n",
              "      <td>NaN</td>\n",
              "      <td>NaN</td>\n",
              "      <td>18171.000000</td>\n",
              "      <td>33.745261</td>\n",
              "      <td>-97.460820</td>\n",
              "      <td>1.235900e+04</td>\n",
              "      <td>0.000000</td>\n",
              "      <td>NaN</td>\n",
              "      <td>NaN</td>\n",
              "    </tr>\n",
              "    <tr>\n",
              "      <th>50%</th>\n",
              "      <td>NaN</td>\n",
              "      <td>7.989300e+04</td>\n",
              "      <td>0.000000</td>\n",
              "      <td>0.000000</td>\n",
              "      <td>NaN</td>\n",
              "      <td>NaN</td>\n",
              "      <td>NaN</td>\n",
              "      <td>NaN</td>\n",
              "      <td>NaN</td>\n",
              "      <td>NaN</td>\n",
              "      <td>NaN</td>\n",
              "      <td>29169.000000</td>\n",
              "      <td>38.032240</td>\n",
              "      <td>-88.589696</td>\n",
              "      <td>3.214900e+04</td>\n",
              "      <td>331.000000</td>\n",
              "      <td>NaN</td>\n",
              "      <td>NaN</td>\n",
              "    </tr>\n",
              "    <tr>\n",
              "      <th>75%</th>\n",
              "      <td>NaN</td>\n",
              "      <td>1.931180e+05</td>\n",
              "      <td>5.000000</td>\n",
              "      <td>0.000000</td>\n",
              "      <td>NaN</td>\n",
              "      <td>NaN</td>\n",
              "      <td>NaN</td>\n",
              "      <td>NaN</td>\n",
              "      <td>NaN</td>\n",
              "      <td>NaN</td>\n",
              "      <td>NaN</td>\n",
              "      <td>45079.000000</td>\n",
              "      <td>41.772338</td>\n",
              "      <td>-81.024875</td>\n",
              "      <td>1.183020e+05</td>\n",
              "      <td>1699.250000</td>\n",
              "      <td>NaN</td>\n",
              "      <td>NaN</td>\n",
              "    </tr>\n",
              "    <tr>\n",
              "      <th>max</th>\n",
              "      <td>NaN</td>\n",
              "      <td>2.293032e+06</td>\n",
              "      <td>614941.000000</td>\n",
              "      <td>33274.000000</td>\n",
              "      <td>NaN</td>\n",
              "      <td>NaN</td>\n",
              "      <td>NaN</td>\n",
              "      <td>NaN</td>\n",
              "      <td>NaN</td>\n",
              "      <td>NaN</td>\n",
              "      <td>NaN</td>\n",
              "      <td>56045.000000</td>\n",
              "      <td>71.706900</td>\n",
              "      <td>178.065000</td>\n",
              "      <td>1.380004e+09</td>\n",
              "      <td>89995.000000</td>\n",
              "      <td>NaN</td>\n",
              "      <td>NaN</td>\n",
              "    </tr>\n",
              "  </tbody>\n",
              "</table>\n",
              "</div>"
            ],
            "text/plain": [
              "        Case_Type  ...     Prep_Flow_Runtime\n",
              "count      628086  ...                628085\n",
              "unique          2  ...                     1\n",
              "top     Confirmed  ...  6/4/2020 11:15:39 PM\n",
              "freq       314241  ...                628085\n",
              "mean          NaN  ...                   NaN\n",
              "std           NaN  ...                   NaN\n",
              "min           NaN  ...                   NaN\n",
              "25%           NaN  ...                   NaN\n",
              "50%           NaN  ...                   NaN\n",
              "75%           NaN  ...                   NaN\n",
              "max           NaN  ...                   NaN\n",
              "\n",
              "[11 rows x 18 columns]"
            ]
          },
          "metadata": {},
          "execution_count": 18
        }
      ]
    },
    {
      "cell_type": "code",
      "metadata": {
        "id": "x9gnXN9a1YH8",
        "colab": {
          "base_uri": "https://localhost:8080/"
        },
        "outputId": "6ca805f2-9e40-4112-8e99-6c3d889d8f2c"
      },
      "source": [
        "df_cases.isnull().sum()\n",
        "# missing values"
      ],
      "execution_count": 19,
      "outputs": [
        {
          "output_type": "execute_result",
          "data": {
            "text/plain": [
              "Case_Type                                    0\n",
              "People_Total_Tested_Count               624214\n",
              "Cases                                        0\n",
              "Difference                                   0\n",
              "Date                                         0\n",
              "Combined_Key                                 1\n",
              "Country_Region                               1\n",
              "Province_State                           49045\n",
              "Admin2                                   71081\n",
              "iso2                                      1073\n",
              "iso3                                       805\n",
              "FIPS                                     89330\n",
              "Lat                                      18557\n",
              "Long                                     18557\n",
              "Population_Count                         18557\n",
              "People_Hospitalized_Cumulative_Count    624214\n",
              "Data_Source                                  1\n",
              "Prep_Flow_Runtime                            1\n",
              "dtype: int64"
            ]
          },
          "metadata": {},
          "execution_count": 19
        }
      ]
    },
    {
      "cell_type": "markdown",
      "metadata": {
        "id": "uOJeemFefO5H"
      },
      "source": [
        "# percentage of missing values for each columns"
      ]
    },
    {
      "cell_type": "code",
      "metadata": {
        "id": "bOXgDhTm1rhU",
        "colab": {
          "base_uri": "https://localhost:8080/"
        },
        "outputId": "38fc48e5-d5c5-4de0-e72c-d14bf420b7ce"
      },
      "source": [
        "df_cases.isnull().sum()/df_cases.shape[0] * 100              \n",
        "\n",
        "# People_Total_Tested_Count can be dropped as it has more than 99% null\n",
        "# Province_State can be used to compare individual states in the United sstates and their cases but has more than 5% missing values\n",
        "# FIPS (US only - 5-digit Federal Information Processing Standard) can be dropped as it cannot be related with other countries.\n",
        "# Admin2 (US only - County name) can be dropped unless we want to work with only the United states information.\n",
        "# People_Hospitalized_Cumulative_Count can be dropped as well because it is 99% null\n",
        "# lat and long can be used to pinpoint the places that the virus was much on\n",
        "# population_count null values can be filled to makeup for the 3% null value"
      ],
      "execution_count": 20,
      "outputs": [
        {
          "output_type": "execute_result",
          "data": {
            "text/plain": [
              "Case_Type                                0.000000\n",
              "People_Total_Tested_Count               99.383524\n",
              "Cases                                    0.000000\n",
              "Difference                               0.000000\n",
              "Date                                     0.000000\n",
              "Combined_Key                             0.000159\n",
              "Country_Region                           0.000159\n",
              "Province_State                           7.808644\n",
              "Admin2                                  11.317081\n",
              "iso2                                     0.170836\n",
              "iso3                                     0.128167\n",
              "FIPS                                    14.222575\n",
              "Lat                                      2.954532\n",
              "Long                                     2.954532\n",
              "Population_Count                         2.954532\n",
              "People_Hospitalized_Cumulative_Count    99.383524\n",
              "Data_Source                              0.000159\n",
              "Prep_Flow_Runtime                        0.000159\n",
              "dtype: float64"
            ]
          },
          "metadata": {},
          "execution_count": 20
        }
      ]
    },
    {
      "cell_type": "code",
      "metadata": {
        "colab": {
          "base_uri": "https://localhost:8080/"
        },
        "id": "PlhFN4lh-GvH",
        "outputId": "f63e49e1-a29e-46b4-d807-0e351ba59146"
      },
      "source": [
        "df_cases['Country_Region'].value_counts()"
      ],
      "execution_count": 21,
      "outputs": [
        {
          "output_type": "execute_result",
          "data": {
            "text/plain": [
              "US                       557869\n",
              "China                      8844\n",
              "Canada                     3216\n",
              "France                     2948\n",
              "United Kingdom             2948\n",
              "                          ...  \n",
              "Bahamas                     268\n",
              "Sao Tome and Principe       268\n",
              "Cabo Verde                  268\n",
              "Afghanistan                 268\n",
              "Malawi                      268\n",
              "Name: Country_Region, Length: 187, dtype: int64"
            ]
          },
          "metadata": {},
          "execution_count": 21
        }
      ]
    },
    {
      "cell_type": "code",
      "metadata": {
        "colab": {
          "base_uri": "https://localhost:8080/"
        },
        "id": "ZEFxKkdfBz_6",
        "outputId": "479141d7-52c2-440d-a476-222ffae53eb4"
      },
      "source": [
        "df_cases['Country_Region'].value_counts()/df_cases.shape[0] * 100\n",
        "# Almost 93% of the country data is from the United states\n"
      ],
      "execution_count": 22,
      "outputs": [
        {
          "output_type": "execute_result",
          "data": {
            "text/plain": [
              "US                       88.820480\n",
              "China                     1.408087\n",
              "Canada                    0.512032\n",
              "France                    0.469362\n",
              "United Kingdom            0.469362\n",
              "                           ...    \n",
              "Bahamas                   0.042669\n",
              "Sao Tome and Principe     0.042669\n",
              "Cabo Verde                0.042669\n",
              "Afghanistan               0.042669\n",
              "Malawi                    0.042669\n",
              "Name: Country_Region, Length: 187, dtype: float64"
            ]
          },
          "metadata": {},
          "execution_count": 22
        }
      ]
    },
    {
      "cell_type": "code",
      "metadata": {
        "colab": {
          "base_uri": "https://localhost:8080/"
        },
        "id": "YPLniExYBClL",
        "outputId": "1d6d65b7-a8bc-499e-f76a-e85675ae13a0"
      },
      "source": [
        "df_cases[df_cases['Country_Region']=='US'].count()\n",
        "# People_Total_Tested_Count and People_Hospitalized_Cumulative_Count can be dropped if we want to work with US because it has lots of null values"
      ],
      "execution_count": 23,
      "outputs": [
        {
          "output_type": "execute_result",
          "data": {
            "text/plain": [
              "Case_Type                               557869\n",
              "People_Total_Tested_Count                 3872\n",
              "Cases                                   557869\n",
              "Difference                              557869\n",
              "Date                                    557869\n",
              "Combined_Key                            557869\n",
              "Country_Region                          557869\n",
              "Province_State                          557869\n",
              "Admin2                                  557005\n",
              "iso2                                    557869\n",
              "iso3                                    557869\n",
              "FIPS                                    538756\n",
              "Lat                                     540117\n",
              "Long                                    540117\n",
              "Population_Count                        540117\n",
              "People_Hospitalized_Cumulative_Count      3872\n",
              "Data_Source                             557869\n",
              "Prep_Flow_Runtime                       557869\n",
              "dtype: int64"
            ]
          },
          "metadata": {},
          "execution_count": 23
        }
      ]
    },
    {
      "cell_type": "code",
      "metadata": {
        "colab": {
          "base_uri": "https://localhost:8080/"
        },
        "id": "vf_rIUm3PJP0",
        "outputId": "8ec51398-ec6c-4aa9-b601-e9af49804e51"
      },
      "source": [
        "df_cases['Case_Type'].value_counts()\n",
        "# this is good for us to know how many people that died and people confirmed with the virus"
      ],
      "execution_count": 24,
      "outputs": [
        {
          "output_type": "execute_result",
          "data": {
            "text/plain": [
              "Confirmed    314241\n",
              "Deaths       313845\n",
              "Name: Case_Type, dtype: int64"
            ]
          },
          "metadata": {},
          "execution_count": 24
        }
      ]
    },
    {
      "cell_type": "code",
      "metadata": {
        "colab": {
          "base_uri": "https://localhost:8080/"
        },
        "id": "b8paclO0_2eH",
        "outputId": "a302de9c-c73a-40a5-e9dc-bebb694228a3"
      },
      "source": [
        "df_cases['Data_Source'].value_counts()"
      ],
      "execution_count": 25,
      "outputs": [
        {
          "output_type": "execute_result",
          "data": {
            "text/plain": [
              "2019 Novel Coronavirus COVID-19 (2019-nCoV) Data Repository by Johns Hopkins CSSE    628085\n",
              "Name: Data_Source, dtype: int64"
            ]
          },
          "metadata": {},
          "execution_count": 25
        }
      ]
    },
    {
      "cell_type": "markdown",
      "metadata": {
        "id": "XovpdPbFZbHt"
      },
      "source": [
        "*# Dropped People_Total_Tested_Count & People_Hospitalized_Cumulative_Count*"
      ]
    },
    {
      "cell_type": "code",
      "metadata": {
        "colab": {
          "base_uri": "https://localhost:8080/",
          "height": 1000
        },
        "id": "6SGFJU78K86n",
        "outputId": "cddc9872-1c38-4cb4-c525-3cf4a85a0352"
      },
      "source": [
        "df_cases.drop(['People_Total_Tested_Count', 'People_Hospitalized_Cumulative_Count'], axis=1)\n",
        "# dropped People_Total_Tested_Count and People_Hospitalized_Cumulative_Count because they have much null values."
      ],
      "execution_count": 26,
      "outputs": [
        {
          "output_type": "execute_result",
          "data": {
            "text/html": [
              "<div>\n",
              "<style scoped>\n",
              "    .dataframe tbody tr th:only-of-type {\n",
              "        vertical-align: middle;\n",
              "    }\n",
              "\n",
              "    .dataframe tbody tr th {\n",
              "        vertical-align: top;\n",
              "    }\n",
              "\n",
              "    .dataframe thead th {\n",
              "        text-align: right;\n",
              "    }\n",
              "</style>\n",
              "<table border=\"1\" class=\"dataframe\">\n",
              "  <thead>\n",
              "    <tr style=\"text-align: right;\">\n",
              "      <th></th>\n",
              "      <th>Case_Type</th>\n",
              "      <th>Cases</th>\n",
              "      <th>Difference</th>\n",
              "      <th>Date</th>\n",
              "      <th>Combined_Key</th>\n",
              "      <th>Country_Region</th>\n",
              "      <th>Province_State</th>\n",
              "      <th>Admin2</th>\n",
              "      <th>iso2</th>\n",
              "      <th>iso3</th>\n",
              "      <th>FIPS</th>\n",
              "      <th>Lat</th>\n",
              "      <th>Long</th>\n",
              "      <th>Population_Count</th>\n",
              "      <th>Data_Source</th>\n",
              "      <th>Prep_Flow_Runtime</th>\n",
              "    </tr>\n",
              "  </thead>\n",
              "  <tbody>\n",
              "    <tr>\n",
              "      <th>0</th>\n",
              "      <td>Confirmed</td>\n",
              "      <td>6</td>\n",
              "      <td>0</td>\n",
              "      <td>5/22/2020</td>\n",
              "      <td>Western Sahara</td>\n",
              "      <td>Western Sahara</td>\n",
              "      <td>NaN</td>\n",
              "      <td>NaN</td>\n",
              "      <td>EH</td>\n",
              "      <td>ESH</td>\n",
              "      <td>NaN</td>\n",
              "      <td>24.215500</td>\n",
              "      <td>-12.885800</td>\n",
              "      <td>597330.0</td>\n",
              "      <td>2019 Novel Coronavirus COVID-19 (2019-nCoV) Da...</td>\n",
              "      <td>6/4/2020 11:15:39 PM</td>\n",
              "    </tr>\n",
              "    <tr>\n",
              "      <th>1</th>\n",
              "      <td>Confirmed</td>\n",
              "      <td>0</td>\n",
              "      <td>0</td>\n",
              "      <td>2/3/2020</td>\n",
              "      <td>Switzerland</td>\n",
              "      <td>Switzerland</td>\n",
              "      <td>NaN</td>\n",
              "      <td>NaN</td>\n",
              "      <td>CH</td>\n",
              "      <td>CHE</td>\n",
              "      <td>NaN</td>\n",
              "      <td>46.818200</td>\n",
              "      <td>8.227500</td>\n",
              "      <td>8654618.0</td>\n",
              "      <td>2019 Novel Coronavirus COVID-19 (2019-nCoV) Da...</td>\n",
              "      <td>6/4/2020 11:15:39 PM</td>\n",
              "    </tr>\n",
              "    <tr>\n",
              "      <th>2</th>\n",
              "      <td>Deaths</td>\n",
              "      <td>0</td>\n",
              "      <td>0</td>\n",
              "      <td>3/1/2020</td>\n",
              "      <td>Cyprus</td>\n",
              "      <td>Cyprus</td>\n",
              "      <td>NaN</td>\n",
              "      <td>NaN</td>\n",
              "      <td>CY</td>\n",
              "      <td>CYP</td>\n",
              "      <td>NaN</td>\n",
              "      <td>35.126400</td>\n",
              "      <td>33.429900</td>\n",
              "      <td>1207361.0</td>\n",
              "      <td>2019 Novel Coronavirus COVID-19 (2019-nCoV) Da...</td>\n",
              "      <td>6/4/2020 11:15:39 PM</td>\n",
              "    </tr>\n",
              "    <tr>\n",
              "      <th>3</th>\n",
              "      <td>Confirmed</td>\n",
              "      <td>23</td>\n",
              "      <td>0</td>\n",
              "      <td>4/21/2020</td>\n",
              "      <td>Antigua and Barbuda</td>\n",
              "      <td>Antigua and Barbuda</td>\n",
              "      <td>NaN</td>\n",
              "      <td>NaN</td>\n",
              "      <td>AG</td>\n",
              "      <td>ATG</td>\n",
              "      <td>NaN</td>\n",
              "      <td>17.060800</td>\n",
              "      <td>-61.796400</td>\n",
              "      <td>97928.0</td>\n",
              "      <td>2019 Novel Coronavirus COVID-19 (2019-nCoV) Da...</td>\n",
              "      <td>6/4/2020 11:15:39 PM</td>\n",
              "    </tr>\n",
              "    <tr>\n",
              "      <th>4</th>\n",
              "      <td>Deaths</td>\n",
              "      <td>56</td>\n",
              "      <td>0</td>\n",
              "      <td>5/11/2020</td>\n",
              "      <td>Thailand</td>\n",
              "      <td>Thailand</td>\n",
              "      <td>NaN</td>\n",
              "      <td>NaN</td>\n",
              "      <td>TH</td>\n",
              "      <td>THA</td>\n",
              "      <td>NaN</td>\n",
              "      <td>15.870032</td>\n",
              "      <td>100.992541</td>\n",
              "      <td>69799978.0</td>\n",
              "      <td>2019 Novel Coronavirus COVID-19 (2019-nCoV) Da...</td>\n",
              "      <td>6/4/2020 11:15:39 PM</td>\n",
              "    </tr>\n",
              "    <tr>\n",
              "      <th>...</th>\n",
              "      <td>...</td>\n",
              "      <td>...</td>\n",
              "      <td>...</td>\n",
              "      <td>...</td>\n",
              "      <td>...</td>\n",
              "      <td>...</td>\n",
              "      <td>...</td>\n",
              "      <td>...</td>\n",
              "      <td>...</td>\n",
              "      <td>...</td>\n",
              "      <td>...</td>\n",
              "      <td>...</td>\n",
              "      <td>...</td>\n",
              "      <td>...</td>\n",
              "      <td>...</td>\n",
              "      <td>...</td>\n",
              "    </tr>\n",
              "    <tr>\n",
              "      <th>628081</th>\n",
              "      <td>Deaths</td>\n",
              "      <td>0</td>\n",
              "      <td>0</td>\n",
              "      <td>1/29/2020</td>\n",
              "      <td>Hennepin, Minnesota, US</td>\n",
              "      <td>US</td>\n",
              "      <td>Minnesota</td>\n",
              "      <td>Hennepin</td>\n",
              "      <td>US</td>\n",
              "      <td>USA</td>\n",
              "      <td>27053.0</td>\n",
              "      <td>45.007615</td>\n",
              "      <td>-93.476949</td>\n",
              "      <td>1265843.0</td>\n",
              "      <td>2019 Novel Coronavirus COVID-19 (2019-nCoV) Da...</td>\n",
              "      <td>6/4/2020 11:15:39 PM</td>\n",
              "    </tr>\n",
              "    <tr>\n",
              "      <th>628082</th>\n",
              "      <td>Deaths</td>\n",
              "      <td>1</td>\n",
              "      <td>0</td>\n",
              "      <td>6/4/2020</td>\n",
              "      <td>Calloway, Kentucky, US</td>\n",
              "      <td>US</td>\n",
              "      <td>Kentucky</td>\n",
              "      <td>Calloway</td>\n",
              "      <td>US</td>\n",
              "      <td>USA</td>\n",
              "      <td>21035.0</td>\n",
              "      <td>36.620934</td>\n",
              "      <td>-88.273159</td>\n",
              "      <td>39001.0</td>\n",
              "      <td>2019 Novel Coronavirus COVID-19 (2019-nCoV) Da...</td>\n",
              "      <td>6/4/2020 11:15:39 PM</td>\n",
              "    </tr>\n",
              "    <tr>\n",
              "      <th>628083</th>\n",
              "      <td>Deaths</td>\n",
              "      <td>11</td>\n",
              "      <td>0</td>\n",
              "      <td>5/1/2020</td>\n",
              "      <td>Harrisonburg, Virginia, US</td>\n",
              "      <td>US</td>\n",
              "      <td>Virginia</td>\n",
              "      <td>Harrisonburg</td>\n",
              "      <td>US</td>\n",
              "      <td>USA</td>\n",
              "      <td>51660.0</td>\n",
              "      <td>38.435426</td>\n",
              "      <td>-78.875363</td>\n",
              "      <td>53016.0</td>\n",
              "      <td>2019 Novel Coronavirus COVID-19 (2019-nCoV) Da...</td>\n",
              "      <td>6/4/2020 11:15:39 PM</td>\n",
              "    </tr>\n",
              "    <tr>\n",
              "      <th>628084</th>\n",
              "      <td>Deaths</td>\n",
              "      <td>0</td>\n",
              "      <td>0</td>\n",
              "      <td>3/27/2020</td>\n",
              "      <td>Foard, Texas, US</td>\n",
              "      <td>US</td>\n",
              "      <td>Texas</td>\n",
              "      <td>Foard</td>\n",
              "      <td>US</td>\n",
              "      <td>USA</td>\n",
              "      <td>48155.0</td>\n",
              "      <td>33.973086</td>\n",
              "      <td>-99.776780</td>\n",
              "      <td>1155.0</td>\n",
              "      <td>2019 Novel Coronavirus COVID-19 (2019-nCoV) Da...</td>\n",
              "      <td>6/4/2020 11:15:39 PM</td>\n",
              "    </tr>\n",
              "    <tr>\n",
              "      <th>628085</th>\n",
              "      <td>Deaths</td>\n",
              "      <td>0</td>\n",
              "      <td>0</td>\n",
              "      <td>3/7/202</td>\n",
              "      <td>NaN</td>\n",
              "      <td>NaN</td>\n",
              "      <td>NaN</td>\n",
              "      <td>NaN</td>\n",
              "      <td>NaN</td>\n",
              "      <td>NaN</td>\n",
              "      <td>NaN</td>\n",
              "      <td>NaN</td>\n",
              "      <td>NaN</td>\n",
              "      <td>NaN</td>\n",
              "      <td>NaN</td>\n",
              "      <td>NaN</td>\n",
              "    </tr>\n",
              "  </tbody>\n",
              "</table>\n",
              "<p>628086 rows × 16 columns</p>\n",
              "</div>"
            ],
            "text/plain": [
              "        Case_Type  ...     Prep_Flow_Runtime\n",
              "0       Confirmed  ...  6/4/2020 11:15:39 PM\n",
              "1       Confirmed  ...  6/4/2020 11:15:39 PM\n",
              "2          Deaths  ...  6/4/2020 11:15:39 PM\n",
              "3       Confirmed  ...  6/4/2020 11:15:39 PM\n",
              "4          Deaths  ...  6/4/2020 11:15:39 PM\n",
              "...           ...  ...                   ...\n",
              "628081     Deaths  ...  6/4/2020 11:15:39 PM\n",
              "628082     Deaths  ...  6/4/2020 11:15:39 PM\n",
              "628083     Deaths  ...  6/4/2020 11:15:39 PM\n",
              "628084     Deaths  ...  6/4/2020 11:15:39 PM\n",
              "628085     Deaths  ...                   NaN\n",
              "\n",
              "[628086 rows x 16 columns]"
            ]
          },
          "metadata": {},
          "execution_count": 26
        }
      ]
    },
    {
      "cell_type": "markdown",
      "metadata": {
        "id": "tRPvpjf1V5Vr"
      },
      "source": [
        "# Comparing the countries/states with the number of cases\n"
      ]
    },
    {
      "cell_type": "code",
      "metadata": {
        "colab": {
          "base_uri": "https://localhost:8080/"
        },
        "id": "SCqWAmHmOPL4",
        "outputId": "3a51699d-0d9e-4aa6-f332-518bff8acce7"
      },
      "source": [
        "df_cases.groupby('Country_Region')['Cases'].sum()"
      ],
      "execution_count": 27,
      "outputs": [
        {
          "output_type": "execute_result",
          "data": {
            "text/plain": [
              "Country_Region\n",
              "Afghanistan           328709\n",
              "Albania                53351\n",
              "Algeria               353526\n",
              "Andorra                51381\n",
              "Angola                  2799\n",
              "                       ...  \n",
              "West Bank and Gaza     24153\n",
              "Western Sahara           398\n",
              "Yemen                   6932\n",
              "Zambia                 25204\n",
              "Zimbabwe                3645\n",
              "Name: Cases, Length: 187, dtype: int64"
            ]
          },
          "metadata": {},
          "execution_count": 27
        }
      ]
    },
    {
      "cell_type": "code",
      "metadata": {
        "id": "E0ANdS2uQ7BL",
        "colab": {
          "base_uri": "https://localhost:8080/"
        },
        "outputId": "209d9a26-5f5c-472f-f273-6f9c4bec5d13"
      },
      "source": [
        "df_cases.groupby('Province_State')['Cases'].sum()"
      ],
      "execution_count": 28,
      "outputs": [
        {
          "output_type": "execute_result",
          "data": {
            "text/plain": [
              "Province_State\n",
              "Alabama           375210\n",
              "Alaska             13445\n",
              "Alberta           316400\n",
              "American Samoa         0\n",
              "Anguilla             202\n",
              "                   ...  \n",
              "Wyoming            22966\n",
              "Xinjiang            9386\n",
              "Yukon                667\n",
              "Yunnan             22457\n",
              "Zhejiang          153657\n",
              "Name: Cases, Length: 135, dtype: int64"
            ]
          },
          "metadata": {},
          "execution_count": 28
        }
      ]
    },
    {
      "cell_type": "code",
      "metadata": {
        "id": "ZpiqlS5MU-gm",
        "colab": {
          "base_uri": "https://localhost:8080/"
        },
        "outputId": "7bae53dd-3e27-476b-f103-c78fe6274d95"
      },
      "source": [
        "df_cases[df_cases['Country_Region']=='US'].groupby('Province_State')['Cases'].sum()"
      ],
      "execution_count": 29,
      "outputs": [
        {
          "output_type": "execute_result",
          "data": {
            "text/plain": [
              "Province_State\n",
              "Alabama                       375210\n",
              "Alaska                         13445\n",
              "American Samoa                     0\n",
              "Arizona                       419149\n",
              "Arkansas                      152922\n",
              "California                   2615903\n",
              "Colorado                      703999\n",
              "Connecticut                  1153847\n",
              "Delaware                      218980\n",
              "District of Columbia          222302\n",
              "Florida                      1525965\n",
              "Georgia                      1248809\n",
              "Guam                            6292\n",
              "Hawaii                         23770\n",
              "Idaho                          87406\n",
              "Illinois                     2785406\n",
              "Indiana                       870242\n",
              "Iowa                          381877\n",
              "Kansas                        224592\n",
              "Kentucky                      241199\n",
              "Louisiana                    1296378\n",
              "Maine                          58845\n",
              "Maryland                     1139662\n",
              "Massachusetts                2829777\n",
              "Michigan                     1829175\n",
              "Minnesota                     458249\n",
              "Mississippi                   350528\n",
              "Missouri                      344491\n",
              "Montana                        19599\n",
              "Nebraska                      266021\n",
              "Nevada                        203545\n",
              "New Hampshire                 112083\n",
              "New Jersey                   5277002\n",
              "New Mexico                    160720\n",
              "New York                    13893175\n",
              "North Carolina                571250\n",
              "North Dakota                   59838\n",
              "Northern Mariana Islands         766\n",
              "Ohio                          848906\n",
              "Oklahoma                      181944\n",
              "Oregon                        113235\n",
              "Pennsylvania                 2259822\n",
              "Puerto Rico                    90429\n",
              "Rhode Island                  409683\n",
              "South Carolina                274687\n",
              "South Dakota                  117951\n",
              "Tennessee                     551185\n",
              "Texas                        1434773\n",
              "Utah                          225427\n",
              "Vermont                        35506\n",
              "Virgin Islands                  2913\n",
              "Virginia                      901309\n",
              "Washington                    714810\n",
              "West Virginia                  48597\n",
              "Wisconsin                     408231\n",
              "Wyoming                        22966\n",
              "Name: Cases, dtype: int64"
            ]
          },
          "metadata": {},
          "execution_count": 29
        }
      ]
    },
    {
      "cell_type": "markdown",
      "metadata": {
        "id": "Yl7ZSHNHa0-M"
      },
      "source": [
        "#how many people tested positive each day"
      ]
    },
    {
      "cell_type": "code",
      "metadata": {
        "id": "U007XG1eYOhI",
        "colab": {
          "base_uri": "https://localhost:8080/"
        },
        "outputId": "f3789111-fe24-4e9a-fd60-61ca44d85e83"
      },
      "source": [
        "df_cases.groupby('Country_Region')['Difference'].sum()"
      ],
      "execution_count": 30,
      "outputs": [
        {
          "output_type": "execute_result",
          "data": {
            "text/plain": [
              "Country_Region\n",
              "Afghanistan           18354\n",
              "Albania                1230\n",
              "Algeria               10512\n",
              "Andorra                 903\n",
              "Angola                   90\n",
              "                      ...  \n",
              "West Bank and Gaza      467\n",
              "Western Sahara           10\n",
              "Yemen                   556\n",
              "Zambia                 1096\n",
              "Zimbabwe                241\n",
              "Name: Difference, Length: 187, dtype: int64"
            ]
          },
          "metadata": {},
          "execution_count": 30
        }
      ]
    },
    {
      "cell_type": "code",
      "metadata": {
        "id": "TTcZEOW0bFLI",
        "colab": {
          "base_uri": "https://localhost:8080/"
        },
        "outputId": "cebb910c-262a-4452-d020-13cf2493df5d"
      },
      "source": [
        "df_cases[df_cases['Country_Region']=='US'].groupby('Province_State')['Difference'].sum()"
      ],
      "execution_count": 31,
      "outputs": [
        {
          "output_type": "execute_result",
          "data": {
            "text/plain": [
              "Province_State\n",
              "Alabama                      12206\n",
              "Alaska                         306\n",
              "American Samoa                   0\n",
              "Arizona                      14937\n",
              "Arkansas                      5855\n",
              "California                   83644\n",
              "Colorado                     17733\n",
              "Connecticut                  26247\n",
              "Delaware                      5725\n",
              "District of Columbia          5706\n",
              "Florida                      41900\n",
              "Georgia                      34274\n",
              "Guam                           126\n",
              "Hawaii                         488\n",
              "Idaho                         1769\n",
              "Illinois                     90640\n",
              "Indiana                      25285\n",
              "Iowa                         13064\n",
              "Kansas                        6593\n",
              "Kentucky                      7738\n",
              "Louisiana                    28318\n",
              "Maine                         1619\n",
              "Maryland                     37065\n",
              "Massachusetts                73355\n",
              "Michigan                     40632\n",
              "Minnesota                    17455\n",
              "Mississippi                  11403\n",
              "Missouri                      9586\n",
              "Montana                        321\n",
              "Nebraska                     10051\n",
              "Nevada                        5495\n",
              "New Hampshire                 3323\n",
              "New Jersey                  115165\n",
              "New Mexico                    5275\n",
              "New York                    270868\n",
              "North Carolina               21000\n",
              "North Dakota                  2072\n",
              "Northern Mariana Islands        27\n",
              "Ohio                         24772\n",
              "Oklahoma                      4911\n",
              "Oregon                        2713\n",
              "Pennsylvania                 56111\n",
              "Puerto Rico                   3312\n",
              "Rhode Island                 12148\n",
              "South Carolina                7835\n",
              "South Dakota                  3617\n",
              "Tennessee                    16834\n",
              "Texas                        46054\n",
              "Utah                          6664\n",
              "Vermont                        586\n",
              "Virgin Islands                  49\n",
              "Virginia                     31963\n",
              "Washington                   15058\n",
              "West Virginia                 1294\n",
              "Wisconsin                    13484\n",
              "Wyoming                        609\n",
              "Name: Difference, dtype: int64"
            ]
          },
          "metadata": {},
          "execution_count": 31
        }
      ]
    },
    {
      "cell_type": "markdown",
      "metadata": {
        "id": "uqIkXxisbYp3"
      },
      "source": [
        "#Date data was recorded in countries/states in the us"
      ]
    },
    {
      "cell_type": "code",
      "metadata": {
        "id": "OaEqcQPmbNlW",
        "colab": {
          "base_uri": "https://localhost:8080/"
        },
        "outputId": "b8cb0b80-9073-4e49-8745-0f2ac174c1fc"
      },
      "source": [
        "df_cases.groupby('Country_Region')['Date'].sum()"
      ],
      "execution_count": 32,
      "outputs": [
        {
          "output_type": "execute_result",
          "data": {
            "text/plain": [
              "Country_Region\n",
              "Afghanistan           2/14/20202/29/20204/11/20206/3/20204/15/20204/...\n",
              "Albania               2/21/20204/19/20205/10/20201/31/20203/30/20202...\n",
              "Algeria               4/3/20205/6/20203/10/20205/15/20203/29/20204/2...\n",
              "Andorra               4/19/20203/13/20202/4/20203/27/20205/27/20205/...\n",
              "Angola                3/9/20202/26/20205/10/20205/9/20203/23/20203/1...\n",
              "                                            ...                        \n",
              "West Bank and Gaza    2/7/20202/24/20204/30/20202/16/20205/13/20202/...\n",
              "Western Sahara        5/22/20204/17/20201/27/20203/18/20204/10/20203...\n",
              "Yemen                 4/4/20204/11/20205/26/20204/6/20204/1/20203/12...\n",
              "Zambia                5/15/20201/31/20204/8/20205/8/20204/12/20205/2...\n",
              "Zimbabwe              3/31/20205/10/20203/8/20202/2/20205/27/20204/1...\n",
              "Name: Date, Length: 187, dtype: object"
            ]
          },
          "metadata": {},
          "execution_count": 32
        }
      ]
    },
    {
      "cell_type": "code",
      "metadata": {
        "colab": {
          "base_uri": "https://localhost:8080/"
        },
        "id": "hOBG5vs9br1F",
        "outputId": "f9dac968-1282-42a8-f93f-862988fde795"
      },
      "source": [
        "df_cases[df_cases['Country_Region']=='US'].groupby('Province_State')['Date'].sum()"
      ],
      "execution_count": 33,
      "outputs": [
        {
          "output_type": "execute_result",
          "data": {
            "text/plain": [
              "Province_State\n",
              "Alabama                     4/28/20203/9/20203/1/20202/20/20205/24/20202/2...\n",
              "Alaska                      2/16/20202/17/20204/3/20205/21/20205/20/20203/...\n",
              "American Samoa              2/13/20202/4/20201/29/20205/12/20202/15/20203/...\n",
              "Arizona                     4/18/20204/3/20205/9/20202/16/20206/4/20203/12...\n",
              "Arkansas                    3/27/20203/25/20202/15/20205/20/20202/15/20204...\n",
              "California                  6/4/20204/24/20205/24/20203/27/20204/26/20202/...\n",
              "Colorado                    3/29/20201/24/20202/3/20205/9/20204/1/20203/22...\n",
              "Connecticut                 5/19/20202/27/20203/28/20204/7/20201/31/20203/...\n",
              "Delaware                    3/22/20204/6/20205/11/20203/22/20202/4/20204/1...\n",
              "District of Columbia        6/1/20203/27/20205/15/20205/6/20204/25/20202/2...\n",
              "Florida                     2/28/20202/10/20205/10/20202/20/20202/19/20203...\n",
              "Georgia                     1/23/20204/28/20202/17/20205/26/20204/20/20203...\n",
              "Guam                        1/27/20203/18/20203/4/20203/17/20205/23/20203/...\n",
              "Hawaii                      4/3/20206/4/20203/10/20202/5/20204/14/20204/23...\n",
              "Idaho                       3/2/20203/10/20202/27/20205/22/20204/5/20203/3...\n",
              "Illinois                    3/30/20203/15/20205/8/20205/4/20203/3/20205/4/...\n",
              "Indiana                     2/2/20201/31/20205/22/20204/28/20205/19/20205/...\n",
              "Iowa                        5/30/20204/11/20203/12/20204/11/20204/7/20201/...\n",
              "Kansas                      5/3/20205/25/20204/20/20204/19/20201/26/20204/...\n",
              "Kentucky                    3/9/20205/11/20205/24/20203/2/20204/22/20203/5...\n",
              "Louisiana                   2/26/20203/14/20203/16/20203/6/20203/2/20203/2...\n",
              "Maine                       3/19/20202/29/20203/25/20205/5/20203/27/20201/...\n",
              "Maryland                    3/17/20204/5/20202/14/20203/22/20203/30/20203/...\n",
              "Massachusetts               5/21/20203/4/20205/11/20203/15/20204/5/20204/1...\n",
              "Michigan                    3/25/20202/21/20202/15/20203/9/20203/4/20203/5...\n",
              "Minnesota                   2/2/20206/1/20205/30/20203/24/20203/9/20202/7/...\n",
              "Mississippi                 5/5/20204/10/20205/18/20201/29/20201/27/20202/...\n",
              "Missouri                    5/6/20205/20/20204/12/20203/4/20202/27/20202/1...\n",
              "Montana                     5/7/20203/14/20204/14/20202/2/20204/14/20203/1...\n",
              "Nebraska                    5/26/20205/20/20204/15/20202/17/20203/8/20204/...\n",
              "Nevada                      6/4/20204/18/20204/21/20205/30/20205/13/20203/...\n",
              "New Hampshire               2/12/20203/9/20206/3/20203/29/20202/6/20203/10...\n",
              "New Jersey                  4/9/20205/15/20206/4/20205/17/20203/31/20203/2...\n",
              "New Mexico                  5/3/20202/10/20202/10/20205/26/20205/26/20202/...\n",
              "New York                    2/2/20205/10/20205/29/20204/20/20204/12/20203/...\n",
              "North Carolina              3/3/20203/28/20204/16/20202/9/20202/12/20202/2...\n",
              "North Dakota                5/4/20205/10/20204/23/20203/30/20202/20/20203/...\n",
              "Northern Mariana Islands    5/12/20204/12/20203/26/20203/9/20204/5/20205/9...\n",
              "Ohio                        5/14/20204/6/20204/11/20202/6/20205/4/20206/4/...\n",
              "Oklahoma                    3/20/20202/15/20202/3/20205/14/20205/15/20203/...\n",
              "Oregon                      2/10/20205/23/20203/29/20205/1/20203/7/20202/2...\n",
              "Pennsylvania                4/8/20206/1/20205/6/20202/24/20204/17/20204/6/...\n",
              "Puerto Rico                 4/22/20205/3/20204/25/20205/16/20205/30/20205/...\n",
              "Rhode Island                5/19/20202/11/20204/27/20203/12/20205/24/20202...\n",
              "South Carolina              2/21/20201/31/20202/11/20202/19/20204/8/20202/...\n",
              "South Dakota                2/11/20202/25/20202/12/20204/5/20203/12/20204/...\n",
              "Tennessee                   1/30/20205/7/20204/19/20203/8/20203/22/20203/1...\n",
              "Texas                       4/13/20203/27/20204/1/20203/7/20205/22/20203/2...\n",
              "Utah                        4/29/20205/14/20204/5/20203/8/20202/7/20205/30...\n",
              "Vermont                     3/2/20203/3/20205/10/20205/22/20202/23/20205/4...\n",
              "Virgin Islands              5/26/20205/4/20205/8/20204/10/20205/10/20201/2...\n",
              "Virginia                    3/19/20205/29/20202/20/20202/9/20201/29/20204/...\n",
              "Washington                  4/10/20204/19/20203/28/20204/23/20205/23/20201...\n",
              "West Virginia               4/11/20202/13/20203/26/20202/24/20205/24/20202...\n",
              "Wisconsin                   2/13/20205/21/20205/15/20203/23/20205/5/20203/...\n",
              "Wyoming                     4/6/20203/8/20202/2/20202/20/20205/19/20202/29...\n",
              "Name: Date, dtype: object"
            ]
          },
          "metadata": {},
          "execution_count": 33
        }
      ]
    },
    {
      "cell_type": "markdown",
      "metadata": {
        "id": "jP5WKqcecZFl"
      },
      "source": [
        "#Population_Count to compare with Cases"
      ]
    },
    {
      "cell_type": "code",
      "metadata": {
        "colab": {
          "base_uri": "https://localhost:8080/"
        },
        "id": "750yqnNncYOn",
        "outputId": "39454bf6-cb51-492b-8108-4734c1b23637"
      },
      "source": [
        "df_cases.groupby('Population_Count')['Cases'].sum()"
      ],
      "execution_count": 34,
      "outputs": [
        {
          "output_type": "execute_result",
          "data": {
            "text/plain": [
              "Population_Count\n",
              "8.600000e+01           0\n",
              "1.690000e+02           0\n",
              "2.720000e+02           0\n",
              "4.040000e+02           0\n",
              "4.630000e+02           0\n",
              "                  ...   \n",
              "2.061396e+08      252607\n",
              "2.125594e+08    12014992\n",
              "2.208923e+08     1860874\n",
              "2.735236e+08      892193\n",
              "1.380004e+09     4528222\n",
              "Name: Cases, Length: 3360, dtype: int64"
            ]
          },
          "metadata": {},
          "execution_count": 34
        }
      ]
    }
  ]
}