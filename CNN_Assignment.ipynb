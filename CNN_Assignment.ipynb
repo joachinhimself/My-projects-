{
  "nbformat": 4,
  "nbformat_minor": 0,
  "metadata": {
    "colab": {
      "name": "CNN Assignment",
      "provenance": [],
      "collapsed_sections": [],
      "authorship_tag": "ABX9TyN5lJsAh3FlQ9s4U3NXouiS",
      "include_colab_link": true
    },
    "kernelspec": {
      "display_name": "Python 3",
      "name": "python3"
    },
    "language_info": {
      "name": "python"
    }
  },
  "cells": [
    {
      "cell_type": "markdown",
      "metadata": {
        "id": "view-in-github",
        "colab_type": "text"
      },
      "source": [
        "<a href=\"https://colab.research.google.com/github/joachinhimself/My-projects-/blob/main/CNN_Assignment.ipynb\" target=\"_parent\"><img src=\"https://colab.research.google.com/assets/colab-badge.svg\" alt=\"Open In Colab\"/></a>"
      ]
    },
    {
      "cell_type": "code",
      "metadata": {
        "id": "robCCc5RQIpd"
      },
      "source": [
        "import tensorflow as tf\n",
        "from tensorflow import keras\n",
        "import matplotlib.pyplot as plt\n",
        "import numpy as np\n",
        "from keras.preprocessing.image import ImageDataGenerator\n",
        "from keras.models import Sequential\n",
        "from keras.layers import Convolution2D\n",
        "from keras.layers import MaxPooling2D\n",
        "from keras.layers import Flatten\n",
        "from keras.layers import Dense "
      ],
      "execution_count": 1,
      "outputs": []
    },
    {
      "cell_type": "code",
      "metadata": {
        "colab": {
          "base_uri": "https://localhost:8080/",
          "height": 35
        },
        "id": "PNjFm_ElWxM0",
        "outputId": "80a477cd-86b6-43c8-924c-c19b11922844"
      },
      "source": [
        "tf.__version__"
      ],
      "execution_count": 2,
      "outputs": [
        {
          "output_type": "execute_result",
          "data": {
            "application/vnd.google.colaboratory.intrinsic+json": {
              "type": "string"
            },
            "text/plain": [
              "'2.7.0'"
            ]
          },
          "metadata": {},
          "execution_count": 2
        }
      ]
    },
    {
      "cell_type": "code",
      "metadata": {
        "colab": {
          "base_uri": "https://localhost:8080/"
        },
        "id": "b11AQugkAQpB",
        "outputId": "95769e00-9311-494c-ed59-87c96916f7ed"
      },
      "source": [
        "from google.colab import drive\n",
        "drive.mount('/content/drive')"
      ],
      "execution_count": 3,
      "outputs": [
        {
          "output_type": "stream",
          "name": "stdout",
          "text": [
            "Mounted at /content/drive\n"
          ]
        }
      ]
    },
    {
      "cell_type": "code",
      "metadata": {
        "id": "KXHyEu3gYdff"
      },
      "source": [
        "classifier_cnn = Sequential()"
      ],
      "execution_count": 4,
      "outputs": []
    },
    {
      "cell_type": "code",
      "metadata": {
        "id": "7cMGRmkrv-sK"
      },
      "source": [
        "classifier_cnn.add(Convolution2D(32,3,3, input_shape = (64,64,3), activation = 'relu'))"
      ],
      "execution_count": 5,
      "outputs": []
    },
    {
      "cell_type": "code",
      "metadata": {
        "id": "G6-XRxxTxRF-"
      },
      "source": [
        "classifier_cnn.add(Convolution2D(32,3,3, activation = 'relu'))"
      ],
      "execution_count": 6,
      "outputs": []
    },
    {
      "cell_type": "code",
      "metadata": {
        "id": "boHf-DWjy1XT"
      },
      "source": [
        "classifier_cnn.add(MaxPooling2D(pool_size = (2,2)))"
      ],
      "execution_count": 7,
      "outputs": []
    },
    {
      "cell_type": "code",
      "metadata": {
        "id": "EjzayNdxzCUc"
      },
      "source": [
        "classifier_cnn.add(Flatten())"
      ],
      "execution_count": 8,
      "outputs": []
    },
    {
      "cell_type": "code",
      "metadata": {
        "id": "jz6WUQ0BzOuQ"
      },
      "source": [
        "classifier_cnn.add(Dense(units = 128, activation ='relu'))\n",
        "classifier_cnn.add(Dense(units = 1, activation = 'sigmoid'))"
      ],
      "execution_count": 9,
      "outputs": []
    },
    {
      "cell_type": "code",
      "metadata": {
        "id": "f3vkEIamzuVB"
      },
      "source": [
        "classifier_cnn.compile(optimizer = 'adam', loss = 'binary_crossentropy', metrics = ['accuracy'])"
      ],
      "execution_count": 10,
      "outputs": []
    },
    {
      "cell_type": "code",
      "metadata": {
        "id": "zE9GjRKG29eJ"
      },
      "source": [
        "#feature scaling\n",
        "train_datagen = ImageDataGenerator(rescale = 1./255, horizontal_flip = True)\n",
        "test_datagen = ImageDataGenerator(rescale = 1./255)"
      ],
      "execution_count": 11,
      "outputs": []
    },
    {
      "cell_type": "code",
      "metadata": {
        "colab": {
          "base_uri": "https://localhost:8080/",
          "height": 35
        },
        "id": "hXd_VmiX_9BE",
        "outputId": "aacc95a9-4443-40c9-c295-2a7dd0bdaf54"
      },
      "source": [
        "import os \n",
        "os.getcwd() "
      ],
      "execution_count": 12,
      "outputs": [
        {
          "output_type": "execute_result",
          "data": {
            "application/vnd.google.colaboratory.intrinsic+json": {
              "type": "string"
            },
            "text/plain": [
              "'/content'"
            ]
          },
          "metadata": {},
          "execution_count": 12
        }
      ]
    },
    {
      "cell_type": "code",
      "metadata": {
        "colab": {
          "base_uri": "https://localhost:8080/"
        },
        "id": "p5SxdyNnArMK",
        "outputId": "1bfb4d2e-6efb-4132-b1de-034a6723de99"
      },
      "source": [
        "print(os.listdir('/content/drive/My Drive/dataset.zip (Unzipped Files)'))\n",
        "os.chdir('/content/drive/My Drive/dataset.zip (Unzipped Files)')"
      ],
      "execution_count": 13,
      "outputs": [
        {
          "output_type": "stream",
          "name": "stdout",
          "text": [
            "['dataset', 'classifier.pkl', 'classifier_cnn', 'model_pkl']\n"
          ]
        }
      ]
    },
    {
      "cell_type": "code",
      "metadata": {
        "colab": {
          "base_uri": "https://localhost:8080/"
        },
        "id": "gyGp63gaEEgZ",
        "outputId": "8fa1f908-d308-4e61-e952-5e786544c814"
      },
      "source": [
        "training_set = train_datagen.flow_from_directory('dataset/training_set',\n",
        "    target_size = (64, 64),\n",
        "    batch_size = 32,\n",
        "    class_mode = 'binary')"
      ],
      "execution_count": 14,
      "outputs": [
        {
          "output_type": "stream",
          "name": "stdout",
          "text": [
            "Found 7999 images belonging to 2 classes.\n"
          ]
        }
      ]
    },
    {
      "cell_type": "code",
      "metadata": {
        "colab": {
          "base_uri": "https://localhost:8080/"
        },
        "id": "St8ssc8WnzFQ",
        "outputId": "1e3f4eab-74d7-46dc-ff12-c3fc4e584ed4"
      },
      "source": [
        "test= test_datagen.flow_from_directory('dataset/test_set',\n",
        "    target_size = (64, 64),\n",
        "    batch_size = 32,\n",
        "    class_mode = 'binary')"
      ],
      "execution_count": 15,
      "outputs": [
        {
          "output_type": "stream",
          "name": "stdout",
          "text": [
            "Found 2000 images belonging to 2 classes.\n"
          ]
        }
      ]
    },
    {
      "cell_type": "code",
      "metadata": {
        "colab": {
          "base_uri": "https://localhost:8080/"
        },
        "id": "SxdZmoMov6eR",
        "outputId": "cfdef8c8-931b-4b8f-9143-289910a83ece"
      },
      "source": [
        "classifier_cnn.fit(training_set, validation_data = test, epochs = 20)"
      ],
      "execution_count": 16,
      "outputs": [
        {
          "output_type": "stream",
          "name": "stdout",
          "text": [
            "Epoch 1/20\n",
            "250/250 [==============================] - 2111s 8s/step - loss: 0.6741 - accuracy: 0.5761 - val_loss: 0.6440 - val_accuracy: 0.6365\n",
            "Epoch 2/20\n",
            "250/250 [==============================] - 38s 154ms/step - loss: 0.6219 - accuracy: 0.6535 - val_loss: 0.6091 - val_accuracy: 0.6735\n",
            "Epoch 3/20\n",
            "250/250 [==============================] - 39s 155ms/step - loss: 0.5828 - accuracy: 0.6895 - val_loss: 0.5829 - val_accuracy: 0.7025\n",
            "Epoch 4/20\n",
            "250/250 [==============================] - 39s 155ms/step - loss: 0.5589 - accuracy: 0.7115 - val_loss: 0.5911 - val_accuracy: 0.6820\n",
            "Epoch 5/20\n",
            "250/250 [==============================] - 38s 153ms/step - loss: 0.5360 - accuracy: 0.7231 - val_loss: 0.5737 - val_accuracy: 0.7120\n",
            "Epoch 6/20\n",
            "250/250 [==============================] - 39s 155ms/step - loss: 0.5223 - accuracy: 0.7350 - val_loss: 0.6426 - val_accuracy: 0.6645\n",
            "Epoch 7/20\n",
            "250/250 [==============================] - 38s 154ms/step - loss: 0.5066 - accuracy: 0.7505 - val_loss: 0.5598 - val_accuracy: 0.7175\n",
            "Epoch 8/20\n",
            "250/250 [==============================] - 38s 153ms/step - loss: 0.4930 - accuracy: 0.7602 - val_loss: 0.5643 - val_accuracy: 0.7150\n",
            "Epoch 9/20\n",
            "250/250 [==============================] - 39s 155ms/step - loss: 0.4771 - accuracy: 0.7713 - val_loss: 0.5821 - val_accuracy: 0.7040\n",
            "Epoch 10/20\n",
            "250/250 [==============================] - 38s 151ms/step - loss: 0.4646 - accuracy: 0.7756 - val_loss: 0.5683 - val_accuracy: 0.7270\n",
            "Epoch 11/20\n",
            "250/250 [==============================] - 38s 153ms/step - loss: 0.4536 - accuracy: 0.7843 - val_loss: 0.5647 - val_accuracy: 0.7345\n",
            "Epoch 12/20\n",
            "250/250 [==============================] - 39s 154ms/step - loss: 0.4479 - accuracy: 0.7895 - val_loss: 0.5628 - val_accuracy: 0.7210\n",
            "Epoch 13/20\n",
            "250/250 [==============================] - 39s 154ms/step - loss: 0.4333 - accuracy: 0.7978 - val_loss: 0.5650 - val_accuracy: 0.7310\n",
            "Epoch 14/20\n",
            "250/250 [==============================] - 38s 152ms/step - loss: 0.4193 - accuracy: 0.8055 - val_loss: 0.5767 - val_accuracy: 0.7300\n",
            "Epoch 15/20\n",
            "250/250 [==============================] - 38s 153ms/step - loss: 0.4096 - accuracy: 0.8115 - val_loss: 0.5806 - val_accuracy: 0.7290\n",
            "Epoch 16/20\n",
            "250/250 [==============================] - 38s 154ms/step - loss: 0.4025 - accuracy: 0.8162 - val_loss: 0.6169 - val_accuracy: 0.7195\n",
            "Epoch 17/20\n",
            "250/250 [==============================] - 38s 152ms/step - loss: 0.3956 - accuracy: 0.8219 - val_loss: 0.5931 - val_accuracy: 0.7225\n",
            "Epoch 18/20\n",
            "250/250 [==============================] - 38s 150ms/step - loss: 0.3791 - accuracy: 0.8265 - val_loss: 0.5995 - val_accuracy: 0.7225\n",
            "Epoch 19/20\n",
            "250/250 [==============================] - 38s 152ms/step - loss: 0.3680 - accuracy: 0.8349 - val_loss: 0.5779 - val_accuracy: 0.7365\n",
            "Epoch 20/20\n",
            "250/250 [==============================] - 39s 154ms/step - loss: 0.3584 - accuracy: 0.8417 - val_loss: 0.6006 - val_accuracy: 0.7250\n"
          ]
        },
        {
          "output_type": "execute_result",
          "data": {
            "text/plain": [
              "<keras.callbacks.History at 0x7fbd8f881f90>"
            ]
          },
          "metadata": {},
          "execution_count": 16
        }
      ]
    },
    {
      "cell_type": "code",
      "metadata": {
        "id": "2-SwStp6wUMq"
      },
      "source": [
        "from keras.preprocessing import image\n",
        "\n",
        "test_image = image.load_img('//content/sample_data/dog.jpg',target_size = (64, 64))\n",
        "test_image = image.img_to_array(test_image)\n",
        "test_image= np.expand_dims(test_image, axis = 0)\n",
        "result = classifier_cnn.predict(test_image)\n",
        "training_set.class_indices\n",
        "if result[0][0]==1:\n",
        "  prediction ='dog'\n",
        "else:\n",
        "  prediction = 'cat'"
      ],
      "execution_count": 18,
      "outputs": []
    },
    {
      "cell_type": "code",
      "metadata": {
        "id": "yoaIbClo_i2Y",
        "colab": {
          "base_uri": "https://localhost:8080/"
        },
        "outputId": "75cf1d39-9fd8-4890-d626-307b71aff23b"
      },
      "source": [
        "print(prediction)\n"
      ],
      "execution_count": 19,
      "outputs": [
        {
          "output_type": "stream",
          "name": "stdout",
          "text": [
            "dog\n"
          ]
        }
      ]
    }
  ]
}