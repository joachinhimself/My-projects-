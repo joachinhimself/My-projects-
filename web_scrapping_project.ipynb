{
  "nbformat": 4,
  "nbformat_minor": 0,
  "metadata": {
    "colab": {
      "name": "web scrapping project",
      "provenance": [],
      "collapsed_sections": [],
      "authorship_tag": "ABX9TyNDKB0B07wO6qGq9vVArbcY",
      "include_colab_link": true
    },
    "kernelspec": {
      "name": "python3",
      "display_name": "Python 3"
    },
    "language_info": {
      "name": "python"
    }
  },
  "cells": [
    {
      "cell_type": "markdown",
      "metadata": {
        "id": "view-in-github",
        "colab_type": "text"
      },
      "source": [
        "<a href=\"https://colab.research.google.com/github/joachinhimself/My-projects-/blob/main/web_scrapping_project.ipynb\" target=\"_parent\"><img src=\"https://colab.research.google.com/assets/colab-badge.svg\" alt=\"Open In Colab\"/></a>"
      ]
    },
    {
      "cell_type": "code",
      "metadata": {
        "colab": {
          "base_uri": "https://localhost:8080/"
        },
        "id": "3QZ7QwaHeEkQ",
        "outputId": "21d0b205-468c-4070-c4dc-f2f731d6d4fd"
      },
      "source": [
        "pip install selenium"
      ],
      "execution_count": 1,
      "outputs": [
        {
          "output_type": "stream",
          "name": "stdout",
          "text": [
            "Collecting selenium\n",
            "  Downloading selenium-4.1.0-py3-none-any.whl (958 kB)\n",
            "\u001b[K     |████████████████████████████████| 958 kB 12.0 MB/s \n",
            "\u001b[?25hCollecting trio~=0.17\n",
            "  Downloading trio-0.19.0-py3-none-any.whl (356 kB)\n",
            "\u001b[K     |████████████████████████████████| 356 kB 55.0 MB/s \n",
            "\u001b[?25hCollecting urllib3[secure]~=1.26\n",
            "  Downloading urllib3-1.26.7-py2.py3-none-any.whl (138 kB)\n",
            "\u001b[K     |████████████████████████████████| 138 kB 58.5 MB/s \n",
            "\u001b[?25hCollecting trio-websocket~=0.9\n",
            "  Downloading trio_websocket-0.9.2-py3-none-any.whl (16 kB)\n",
            "Requirement already satisfied: attrs>=19.2.0 in /usr/local/lib/python3.7/dist-packages (from trio~=0.17->selenium) (21.2.0)\n",
            "Collecting async-generator>=1.9\n",
            "  Downloading async_generator-1.10-py3-none-any.whl (18 kB)\n",
            "Requirement already satisfied: idna in /usr/local/lib/python3.7/dist-packages (from trio~=0.17->selenium) (2.10)\n",
            "Collecting outcome\n",
            "  Downloading outcome-1.1.0-py2.py3-none-any.whl (9.7 kB)\n",
            "Requirement already satisfied: sortedcontainers in /usr/local/lib/python3.7/dist-packages (from trio~=0.17->selenium) (2.4.0)\n",
            "Collecting sniffio\n",
            "  Downloading sniffio-1.2.0-py3-none-any.whl (10 kB)\n",
            "Collecting wsproto>=0.14\n",
            "  Downloading wsproto-1.0.0-py3-none-any.whl (24 kB)\n",
            "Collecting cryptography>=1.3.4\n",
            "  Downloading cryptography-36.0.0-cp36-abi3-manylinux_2_24_x86_64.whl (3.6 MB)\n",
            "\u001b[K     |████████████████████████████████| 3.6 MB 42.6 MB/s \n",
            "\u001b[?25hCollecting pyOpenSSL>=0.14\n",
            "  Downloading pyOpenSSL-21.0.0-py2.py3-none-any.whl (55 kB)\n",
            "\u001b[K     |████████████████████████████████| 55 kB 3.6 MB/s \n",
            "\u001b[?25hRequirement already satisfied: certifi in /usr/local/lib/python3.7/dist-packages (from urllib3[secure]~=1.26->selenium) (2021.10.8)\n",
            "Requirement already satisfied: cffi>=1.12 in /usr/local/lib/python3.7/dist-packages (from cryptography>=1.3.4->urllib3[secure]~=1.26->selenium) (1.15.0)\n",
            "Requirement already satisfied: pycparser in /usr/local/lib/python3.7/dist-packages (from cffi>=1.12->cryptography>=1.3.4->urllib3[secure]~=1.26->selenium) (2.21)\n",
            "Requirement already satisfied: six>=1.5.2 in /usr/local/lib/python3.7/dist-packages (from pyOpenSSL>=0.14->urllib3[secure]~=1.26->selenium) (1.15.0)\n",
            "Collecting h11<1,>=0.9.0\n",
            "  Downloading h11-0.12.0-py3-none-any.whl (54 kB)\n",
            "\u001b[K     |████████████████████████████████| 54 kB 3.2 MB/s \n",
            "\u001b[?25hInstalling collected packages: sniffio, outcome, h11, cryptography, async-generator, wsproto, urllib3, trio, pyOpenSSL, trio-websocket, selenium\n",
            "  Attempting uninstall: urllib3\n",
            "    Found existing installation: urllib3 1.24.3\n",
            "    Uninstalling urllib3-1.24.3:\n",
            "      Successfully uninstalled urllib3-1.24.3\n",
            "\u001b[31mERROR: pip's dependency resolver does not currently take into account all the packages that are installed. This behaviour is the source of the following dependency conflicts.\n",
            "requests 2.23.0 requires urllib3!=1.25.0,!=1.25.1,<1.26,>=1.21.1, but you have urllib3 1.26.7 which is incompatible.\n",
            "datascience 0.10.6 requires folium==0.2.1, but you have folium 0.8.3 which is incompatible.\u001b[0m\n",
            "Successfully installed async-generator-1.10 cryptography-36.0.0 h11-0.12.0 outcome-1.1.0 pyOpenSSL-21.0.0 selenium-4.1.0 sniffio-1.2.0 trio-0.19.0 trio-websocket-0.9.2 urllib3-1.26.7 wsproto-1.0.0\n"
          ]
        }
      ]
    },
    {
      "cell_type": "code",
      "metadata": {
        "colab": {
          "base_uri": "https://localhost:8080/"
        },
        "id": "lAOLtNcP5J1N",
        "outputId": "e879cfbe-e20f-4739-e365-02e38fb83356"
      },
      "source": [
        "import pandas as pd\n",
        "import requests\n",
        "from bs4 import BeautifulSoup\n",
        "from selenium import webdriver\n",
        "import csv\n",
        "from time import sleep"
      ],
      "execution_count": 2,
      "outputs": [
        {
          "output_type": "stream",
          "name": "stderr",
          "text": [
            "/usr/local/lib/python3.7/dist-packages/requests/__init__.py:91: RequestsDependencyWarning: urllib3 (1.26.7) or chardet (3.0.4) doesn't match a supported version!\n",
            "  RequestsDependencyWarning)\n"
          ]
        }
      ]
    },
    {
      "cell_type": "code",
      "metadata": {
        "colab": {
          "base_uri": "https://localhost:8080/"
        },
        "id": "fc9r4uqa5Jxq",
        "outputId": "db240f0f-3317-40e9-f558-b75ef9cc9da2"
      },
      "source": [
        "!pip install selenium\n",
        "!apt-get update \n",
        "!apt install chromium-chromedriver\n",
        "\n",
        "from selenium import webdriver\n",
        "chrome_options = webdriver.ChromeOptions()\n",
        "chrome_options.add_argument('--headless')\n",
        "chrome_options.add_argument('--no-sandbox')\n",
        "chrome_options.add_argument('--disable-dev-shm-usage')\n",
        "wd = webdriver.Chrome('chromedriver',chrome_options=chrome_options)\n",
        "driver =webdriver.Chrome('chromedriver',chrome_options=chrome_options)"
      ],
      "execution_count": 3,
      "outputs": [
        {
          "output_type": "stream",
          "name": "stdout",
          "text": [
            "Requirement already satisfied: selenium in /usr/local/lib/python3.7/dist-packages (4.1.0)\n",
            "Requirement already satisfied: trio-websocket~=0.9 in /usr/local/lib/python3.7/dist-packages (from selenium) (0.9.2)\n",
            "Requirement already satisfied: trio~=0.17 in /usr/local/lib/python3.7/dist-packages (from selenium) (0.19.0)\n",
            "Requirement already satisfied: urllib3[secure]~=1.26 in /usr/local/lib/python3.7/dist-packages (from selenium) (1.26.7)\n",
            "Requirement already satisfied: async-generator>=1.9 in /usr/local/lib/python3.7/dist-packages (from trio~=0.17->selenium) (1.10)\n",
            "Requirement already satisfied: outcome in /usr/local/lib/python3.7/dist-packages (from trio~=0.17->selenium) (1.1.0)\n",
            "Requirement already satisfied: sniffio in /usr/local/lib/python3.7/dist-packages (from trio~=0.17->selenium) (1.2.0)\n",
            "Requirement already satisfied: sortedcontainers in /usr/local/lib/python3.7/dist-packages (from trio~=0.17->selenium) (2.4.0)\n",
            "Requirement already satisfied: idna in /usr/local/lib/python3.7/dist-packages (from trio~=0.17->selenium) (2.10)\n",
            "Requirement already satisfied: attrs>=19.2.0 in /usr/local/lib/python3.7/dist-packages (from trio~=0.17->selenium) (21.2.0)\n",
            "Requirement already satisfied: wsproto>=0.14 in /usr/local/lib/python3.7/dist-packages (from trio-websocket~=0.9->selenium) (1.0.0)\n",
            "Requirement already satisfied: cryptography>=1.3.4 in /usr/local/lib/python3.7/dist-packages (from urllib3[secure]~=1.26->selenium) (36.0.0)\n",
            "Requirement already satisfied: pyOpenSSL>=0.14 in /usr/local/lib/python3.7/dist-packages (from urllib3[secure]~=1.26->selenium) (21.0.0)\n",
            "Requirement already satisfied: certifi in /usr/local/lib/python3.7/dist-packages (from urllib3[secure]~=1.26->selenium) (2021.10.8)\n",
            "Requirement already satisfied: cffi>=1.12 in /usr/local/lib/python3.7/dist-packages (from cryptography>=1.3.4->urllib3[secure]~=1.26->selenium) (1.15.0)\n",
            "Requirement already satisfied: pycparser in /usr/local/lib/python3.7/dist-packages (from cffi>=1.12->cryptography>=1.3.4->urllib3[secure]~=1.26->selenium) (2.21)\n",
            "Requirement already satisfied: six>=1.5.2 in /usr/local/lib/python3.7/dist-packages (from pyOpenSSL>=0.14->urllib3[secure]~=1.26->selenium) (1.15.0)\n",
            "Requirement already satisfied: h11<1,>=0.9.0 in /usr/local/lib/python3.7/dist-packages (from wsproto>=0.14->trio-websocket~=0.9->selenium) (0.12.0)\n",
            "Get:1 http://ppa.launchpad.net/c2d4u.team/c2d4u4.0+/ubuntu bionic InRelease [15.9 kB]\n",
            "Hit:2 http://archive.ubuntu.com/ubuntu bionic InRelease\n",
            "Get:3 http://archive.ubuntu.com/ubuntu bionic-updates InRelease [88.7 kB]\n",
            "Get:4 https://cloud.r-project.org/bin/linux/ubuntu bionic-cran40/ InRelease [3,626 B]\n",
            "Hit:5 http://ppa.launchpad.net/cran/libgit2/ubuntu bionic InRelease\n",
            "Get:6 http://archive.ubuntu.com/ubuntu bionic-backports InRelease [74.6 kB]\n",
            "Hit:7 http://ppa.launchpad.net/deadsnakes/ppa/ubuntu bionic InRelease\n",
            "Hit:8 http://ppa.launchpad.net/graphics-drivers/ppa/ubuntu bionic InRelease\n",
            "Get:9 http://security.ubuntu.com/ubuntu bionic-security InRelease [88.7 kB]\n",
            "Ign:10 https://developer.download.nvidia.com/compute/cuda/repos/ubuntu1804/x86_64  InRelease\n",
            "Ign:11 https://developer.download.nvidia.com/compute/machine-learning/repos/ubuntu1804/x86_64  InRelease\n",
            "Get:12 https://developer.download.nvidia.com/compute/cuda/repos/ubuntu1804/x86_64  Release [696 B]\n",
            "Hit:13 https://developer.download.nvidia.com/compute/machine-learning/repos/ubuntu1804/x86_64  Release\n",
            "Get:14 https://developer.download.nvidia.com/compute/cuda/repos/ubuntu1804/x86_64  Release.gpg [836 B]\n",
            "Get:15 http://ppa.launchpad.net/c2d4u.team/c2d4u4.0+/ubuntu bionic/main Sources [1,813 kB]\n",
            "Get:16 http://ppa.launchpad.net/c2d4u.team/c2d4u4.0+/ubuntu bionic/main amd64 Packages [928 kB]\n",
            "Get:17 http://archive.ubuntu.com/ubuntu bionic-updates/universe amd64 Packages [2,222 kB]\n",
            "Get:18 http://archive.ubuntu.com/ubuntu bionic-updates/main amd64 Packages [2,867 kB]\n",
            "Get:20 https://developer.download.nvidia.com/compute/cuda/repos/ubuntu1804/x86_64  Packages [828 kB]\n",
            "Get:21 http://security.ubuntu.com/ubuntu bionic-security/universe amd64 Packages [1,442 kB]\n",
            "Get:22 http://security.ubuntu.com/ubuntu bionic-security/main amd64 Packages [2,430 kB]\n",
            "Fetched 12.8 MB in 4s (3,119 kB/s)\n",
            "Reading package lists... Done\n",
            "Reading package lists... Done\n",
            "Building dependency tree       \n",
            "Reading state information... Done\n",
            "The following additional packages will be installed:\n",
            "  chromium-browser chromium-browser-l10n chromium-codecs-ffmpeg-extra\n",
            "Suggested packages:\n",
            "  webaccounts-chromium-extension unity-chromium-extension\n",
            "The following NEW packages will be installed:\n",
            "  chromium-browser chromium-browser-l10n chromium-chromedriver\n",
            "  chromium-codecs-ffmpeg-extra\n",
            "0 upgraded, 4 newly installed, 0 to remove and 39 not upgraded.\n",
            "Need to get 94.0 MB of archives.\n",
            "After this operation, 324 MB of additional disk space will be used.\n",
            "Get:1 http://archive.ubuntu.com/ubuntu bionic-updates/universe amd64 chromium-codecs-ffmpeg-extra amd64 95.0.4638.69-0ubuntu0.18.04.1 [1,135 kB]\n",
            "Get:2 http://archive.ubuntu.com/ubuntu bionic-updates/universe amd64 chromium-browser amd64 95.0.4638.69-0ubuntu0.18.04.1 [83.6 MB]\n",
            "Get:3 http://archive.ubuntu.com/ubuntu bionic-updates/universe amd64 chromium-browser-l10n all 95.0.4638.69-0ubuntu0.18.04.1 [4,249 kB]\n",
            "Get:4 http://archive.ubuntu.com/ubuntu bionic-updates/universe amd64 chromium-chromedriver amd64 95.0.4638.69-0ubuntu0.18.04.1 [4,986 kB]\n",
            "Fetched 94.0 MB in 2s (47.4 MB/s)\n",
            "Selecting previously unselected package chromium-codecs-ffmpeg-extra.\n",
            "(Reading database ... 155222 files and directories currently installed.)\n",
            "Preparing to unpack .../chromium-codecs-ffmpeg-extra_95.0.4638.69-0ubuntu0.18.04.1_amd64.deb ...\n",
            "Unpacking chromium-codecs-ffmpeg-extra (95.0.4638.69-0ubuntu0.18.04.1) ...\n",
            "Selecting previously unselected package chromium-browser.\n",
            "Preparing to unpack .../chromium-browser_95.0.4638.69-0ubuntu0.18.04.1_amd64.deb ...\n",
            "Unpacking chromium-browser (95.0.4638.69-0ubuntu0.18.04.1) ...\n",
            "Selecting previously unselected package chromium-browser-l10n.\n",
            "Preparing to unpack .../chromium-browser-l10n_95.0.4638.69-0ubuntu0.18.04.1_all.deb ...\n",
            "Unpacking chromium-browser-l10n (95.0.4638.69-0ubuntu0.18.04.1) ...\n",
            "Selecting previously unselected package chromium-chromedriver.\n",
            "Preparing to unpack .../chromium-chromedriver_95.0.4638.69-0ubuntu0.18.04.1_amd64.deb ...\n",
            "Unpacking chromium-chromedriver (95.0.4638.69-0ubuntu0.18.04.1) ...\n",
            "Setting up chromium-codecs-ffmpeg-extra (95.0.4638.69-0ubuntu0.18.04.1) ...\n",
            "Setting up chromium-browser (95.0.4638.69-0ubuntu0.18.04.1) ...\n",
            "update-alternatives: using /usr/bin/chromium-browser to provide /usr/bin/x-www-browser (x-www-browser) in auto mode\n",
            "update-alternatives: using /usr/bin/chromium-browser to provide /usr/bin/gnome-www-browser (gnome-www-browser) in auto mode\n",
            "Setting up chromium-chromedriver (95.0.4638.69-0ubuntu0.18.04.1) ...\n",
            "Setting up chromium-browser-l10n (95.0.4638.69-0ubuntu0.18.04.1) ...\n",
            "Processing triggers for man-db (2.8.3-2ubuntu0.1) ...\n",
            "Processing triggers for hicolor-icon-theme (0.17-2) ...\n",
            "Processing triggers for mime-support (3.60ubuntu1) ...\n",
            "Processing triggers for libc-bin (2.27-3ubuntu1.3) ...\n",
            "/sbin/ldconfig.real: /usr/local/lib/python3.7/dist-packages/ideep4py/lib/libmkldnn.so.0 is not a symbolic link\n",
            "\n"
          ]
        },
        {
          "output_type": "stream",
          "name": "stderr",
          "text": [
            "/usr/local/lib/python3.7/dist-packages/ipykernel_launcher.py:10: DeprecationWarning: use options instead of chrome_options\n",
            "  # Remove the CWD from sys.path while we load stuff.\n",
            "/usr/local/lib/python3.7/dist-packages/ipykernel_launcher.py:11: DeprecationWarning: use options instead of chrome_options\n",
            "  # This is added back by InteractiveShellApp.init_path()\n"
          ]
        }
      ]
    },
    {
      "cell_type": "code",
      "metadata": {
        "colab": {
          "base_uri": "https://localhost:8080/"
        },
        "id": "5AAZC0x25Jux",
        "outputId": "093e4779-ba4b-4d5c-944c-f15ddd00437a"
      },
      "source": [
        "url =  ((\"https://app2.hkp.com.hk/utx/default.jsp?lang=en\"))\n",
        "driver.get(url)\n",
        "subhtml = driver.page_source\n",
        "soup = BeautifulSoup(subhtml, \"html.parser\")\n",
        "xpaths = ['//*[@id=\"tblHKEstList\"]/tbody/tr[2]/td[1]/span']\n",
        "for path in xpaths:\n",
        "    button = driver.find_element_by_xpath(path)\n",
        "    button.click()"
      ],
      "execution_count": 4,
      "outputs": [
        {
          "output_type": "stream",
          "name": "stderr",
          "text": [
            "/usr/local/lib/python3.7/dist-packages/ipykernel_launcher.py:7: DeprecationWarning: find_element_by_* commands are deprecated. Please use find_element() instead\n",
            "  import sys\n"
          ]
        }
      ]
    },
    {
      "cell_type": "code",
      "metadata": {
        "colab": {
          "base_uri": "https://localhost:8080/"
        },
        "id": "khAine_N5Jq7",
        "outputId": "29f15c5e-c9ac-4b5f-80c5-fb573e60e4d6"
      },
      "source": [
        "#Curr & notCurr\n",
        "building = driver.find_elements_by_xpath('//*[@id=\"DtlTable2\"]/tbody/tr/td[2]/table/tbody/tr/td/a')\n",
        "buildlink = list(zip([i.get_attribute('href') for i in building] ,[name.text for name in building]))\n",
        "# link + building name "
      ],
      "execution_count": 5,
      "outputs": [
        {
          "output_type": "stream",
          "name": "stderr",
          "text": [
            "/usr/local/lib/python3.7/dist-packages/ipykernel_launcher.py:2: DeprecationWarning: find_elements_by_* commands are deprecated. Please use find_elements() instead\n",
            "  \n"
          ]
        }
      ]
    },
    {
      "cell_type": "code",
      "metadata": {
        "colab": {
          "base_uri": "https://localhost:8080/"
        },
        "id": "GV1IfcO45Jj8",
        "outputId": "8208d133-0a3c-47d3-82a3-05b63d52f0d1"
      },
      "source": [
        "for link in buildlink:\n",
        "    driver.get(link[0])   #link\n",
        "    xpaths = ['//*[@id=\"tx_record_3\"]']\n",
        "    for path in xpaths:\n",
        "        button = driver.find_element_by_xpath(path)\n",
        "        button.click()\n",
        "    sleep(3)   \n",
        "    a = driver.find_elements_by_xpath('//*[@id=\"Tx_hist_table\"]/tbody/tr')\n",
        "    alist = [i.text for i in a]"
      ],
      "execution_count": 6,
      "outputs": [
        {
          "output_type": "stream",
          "name": "stderr",
          "text": [
            "/usr/local/lib/python3.7/dist-packages/ipykernel_launcher.py:5: DeprecationWarning: find_element_by_* commands are deprecated. Please use find_element() instead\n",
            "  \"\"\"\n",
            "/usr/local/lib/python3.7/dist-packages/ipykernel_launcher.py:8: DeprecationWarning: find_elements_by_* commands are deprecated. Please use find_elements() instead\n",
            "  \n"
          ]
        }
      ]
    },
    {
      "cell_type": "code",
      "metadata": {
        "id": "ykKnx3tS5Jah"
      },
      "source": [
        "with open('TKS.csv','a') as f:\n",
        "        csv_writer = csv.writer(f)\n",
        "        for row in alist:\n",
        "            csv_writer.writerow([link[1]]+row.split())  #building name"
      ],
      "execution_count": 7,
      "outputs": []
    },
    {
      "cell_type": "code",
      "metadata": {
        "id": "DwxGj7VS5JK6"
      },
      "source": [
        "#New code that will add names to each column\n",
        "\n",
        "row = ['Location','Floor','Flat','Saleable_Area','Gross_Area','Price','Pricepft^2_Saleable','Pricepft^2_Gross','Transaction_date','Time','Change','Last_Transaction_Date','Time']"
      ],
      "execution_count": 8,
      "outputs": []
    },
    {
      "cell_type": "code",
      "metadata": {
        "id": "S7fQd_2K5l0c"
      },
      "source": [
        "with open('TKS.csv', 'r') as readFile:\n",
        "    rd = csv.reader(readFile)\n",
        "    lines = list(rd)\n",
        "    lines.insert(0, row)"
      ],
      "execution_count": 9,
      "outputs": []
    },
    {
      "cell_type": "code",
      "metadata": {
        "id": "MXqHqe2Z5rrH"
      },
      "source": [
        "with open('TKS.csv', 'w',newline='') as writeFile:\n",
        "    wt = csv.writer(writeFile)\n",
        "    wt.writerows(lines)"
      ],
      "execution_count": 10,
      "outputs": []
    },
    {
      "cell_type": "code",
      "metadata": {
        "id": "zh8p0HrE5ukq"
      },
      "source": [
        "readFile.close()\n",
        "writeFile.close()"
      ],
      "execution_count": 11,
      "outputs": []
    },
    {
      "cell_type": "code",
      "metadata": {
        "id": "bgnTcOmH5yk1"
      },
      "source": [
        "#New code that will remove blank spaces from the data\n",
        "\n",
        "df = pd.read_csv('TKS.csv')\n",
        "df.to_csv('TKS1.csv', index=False)"
      ],
      "execution_count": 12,
      "outputs": []
    },
    {
      "cell_type": "code",
      "metadata": {
        "id": "DHjhg64n5yO3"
      },
      "source": [
        "#New code that removes unessasary pieces of code creating final piece of data\n",
        "\n",
        "df = pd.read_csv('TKS1.csv', names = ['Location','Floor','Flat','Saleable_Area','Gross_Area','Price','Pricepft^2_Saleable','Pricepft^2_Gross','Transaction_date','Time1','Change','Last_Transaction_Date','Time2'])\n",
        "df.drop('Time1', axis=1, inplace=True)\n",
        "df.drop('Time2', axis=1, inplace=True)\n",
        "df.to_csv('TKSFINAL.csv') #Final CSV data set is known as 'TKSFINAL.csv'"
      ],
      "execution_count": 13,
      "outputs": []
    },
    {
      "cell_type": "code",
      "metadata": {
        "colab": {
          "base_uri": "https://localhost:8080/",
          "height": 435
        },
        "id": "-0jwH6Om5yGv",
        "outputId": "73570898-90cd-4ddb-fa42-b40313d52738"
      },
      "source": [
        "df.head()"
      ],
      "execution_count": 14,
      "outputs": [
        {
          "output_type": "execute_result",
          "data": {
            "text/html": [
              "<div>\n",
              "<style scoped>\n",
              "    .dataframe tbody tr th:only-of-type {\n",
              "        vertical-align: middle;\n",
              "    }\n",
              "\n",
              "    .dataframe tbody tr th {\n",
              "        vertical-align: top;\n",
              "    }\n",
              "\n",
              "    .dataframe thead th {\n",
              "        text-align: right;\n",
              "    }\n",
              "</style>\n",
              "<table border=\"1\" class=\"dataframe\">\n",
              "  <thead>\n",
              "    <tr style=\"text-align: right;\">\n",
              "      <th></th>\n",
              "      <th>Location</th>\n",
              "      <th>Floor</th>\n",
              "      <th>Flat</th>\n",
              "      <th>Saleable_Area</th>\n",
              "      <th>Gross_Area</th>\n",
              "      <th>Price</th>\n",
              "      <th>Pricepft^2_Saleable</th>\n",
              "      <th>Pricepft^2_Gross</th>\n",
              "      <th>Transaction_date</th>\n",
              "      <th>Change</th>\n",
              "      <th>Last_Transaction_Date</th>\n",
              "    </tr>\n",
              "  </thead>\n",
              "  <tbody>\n",
              "    <tr>\n",
              "      <th>0</th>\n",
              "      <td>Location</td>\n",
              "      <td>Floor</td>\n",
              "      <td>Flat</td>\n",
              "      <td>Saleable_Area</td>\n",
              "      <td>Gross_Area</td>\n",
              "      <td>Price</td>\n",
              "      <td>Pricepft^2_Saleable</td>\n",
              "      <td>Pricepft^2_Gross</td>\n",
              "      <td>Transaction_date</td>\n",
              "      <td>Change</td>\n",
              "      <td>Last_Transaction_Date</td>\n",
              "    </tr>\n",
              "    <tr>\n",
              "      <th>1</th>\n",
              "      <td>Harbour View Gardens (East)\\nWisteria Mansion</td>\n",
              "      <td>28</td>\n",
              "      <td>B</td>\n",
              "      <td>1,180</td>\n",
              "      <td>1,308</td>\n",
              "      <td>750</td>\n",
              "      <td>6,357</td>\n",
              "      <td>5,734</td>\n",
              "      <td>2003-11-28</td>\n",
              "      <td>NaN</td>\n",
              "      <td>NaN</td>\n",
              "    </tr>\n",
              "    <tr>\n",
              "      <th>2</th>\n",
              "      <td>Harbour View Gardens (East)\\nWisteria Mansion</td>\n",
              "      <td>28</td>\n",
              "      <td>C</td>\n",
              "      <td>1,046</td>\n",
              "      <td>1,137</td>\n",
              "      <td>885</td>\n",
              "      <td>8,459</td>\n",
              "      <td>7,784</td>\n",
              "      <td>2007-02-01</td>\n",
              "      <td>-26.2%</td>\n",
              "      <td>1997-04-24</td>\n",
              "    </tr>\n",
              "    <tr>\n",
              "      <th>3</th>\n",
              "      <td>Harbour View Gardens (East)\\nWisteria Mansion</td>\n",
              "      <td>28</td>\n",
              "      <td>C</td>\n",
              "      <td>1,046</td>\n",
              "      <td>1,137</td>\n",
              "      <td>1200</td>\n",
              "      <td>11,469</td>\n",
              "      <td>10,554</td>\n",
              "      <td>1997-04-24</td>\n",
              "      <td>+12.2%</td>\n",
              "      <td>1997-03-11</td>\n",
              "    </tr>\n",
              "    <tr>\n",
              "      <th>4</th>\n",
              "      <td>Harbour View Gardens (East)\\nWisteria Mansion</td>\n",
              "      <td>28</td>\n",
              "      <td>C</td>\n",
              "      <td>1,046</td>\n",
              "      <td>1,137</td>\n",
              "      <td>1070</td>\n",
              "      <td>10,227</td>\n",
              "      <td>9,411</td>\n",
              "      <td>1997-03-11</td>\n",
              "      <td>+13.2%</td>\n",
              "      <td>1996-12-10</td>\n",
              "    </tr>\n",
              "  </tbody>\n",
              "</table>\n",
              "</div>"
            ],
            "text/plain": [
              "                                        Location  ...  Last_Transaction_Date\n",
              "0                                       Location  ...  Last_Transaction_Date\n",
              "1  Harbour View Gardens (East)\\nWisteria Mansion  ...                    NaN\n",
              "2  Harbour View Gardens (East)\\nWisteria Mansion  ...             1997-04-24\n",
              "3  Harbour View Gardens (East)\\nWisteria Mansion  ...             1997-03-11\n",
              "4  Harbour View Gardens (East)\\nWisteria Mansion  ...             1996-12-10\n",
              "\n",
              "[5 rows x 11 columns]"
            ]
          },
          "metadata": {},
          "execution_count": 14
        }
      ]
    },
    {
      "cell_type": "code",
      "metadata": {
        "colab": {
          "base_uri": "https://localhost:8080/",
          "height": 487
        },
        "id": "cAiL0oiR5x-U",
        "outputId": "14e8dae8-8de8-49f0-d169-f222eaac94e3"
      },
      "source": [
        "df.drop(df.index[0])\n",
        "df = df.drop(df.index[0])\n",
        "df.head()"
      ],
      "execution_count": 15,
      "outputs": [
        {
          "output_type": "execute_result",
          "data": {
            "text/html": [
              "<div>\n",
              "<style scoped>\n",
              "    .dataframe tbody tr th:only-of-type {\n",
              "        vertical-align: middle;\n",
              "    }\n",
              "\n",
              "    .dataframe tbody tr th {\n",
              "        vertical-align: top;\n",
              "    }\n",
              "\n",
              "    .dataframe thead th {\n",
              "        text-align: right;\n",
              "    }\n",
              "</style>\n",
              "<table border=\"1\" class=\"dataframe\">\n",
              "  <thead>\n",
              "    <tr style=\"text-align: right;\">\n",
              "      <th></th>\n",
              "      <th>Location</th>\n",
              "      <th>Floor</th>\n",
              "      <th>Flat</th>\n",
              "      <th>Saleable_Area</th>\n",
              "      <th>Gross_Area</th>\n",
              "      <th>Price</th>\n",
              "      <th>Pricepft^2_Saleable</th>\n",
              "      <th>Pricepft^2_Gross</th>\n",
              "      <th>Transaction_date</th>\n",
              "      <th>Change</th>\n",
              "      <th>Last_Transaction_Date</th>\n",
              "    </tr>\n",
              "  </thead>\n",
              "  <tbody>\n",
              "    <tr>\n",
              "      <th>1</th>\n",
              "      <td>Harbour View Gardens (East)\\nWisteria Mansion</td>\n",
              "      <td>28</td>\n",
              "      <td>B</td>\n",
              "      <td>1,180</td>\n",
              "      <td>1,308</td>\n",
              "      <td>750</td>\n",
              "      <td>6,357</td>\n",
              "      <td>5,734</td>\n",
              "      <td>2003-11-28</td>\n",
              "      <td>NaN</td>\n",
              "      <td>NaN</td>\n",
              "    </tr>\n",
              "    <tr>\n",
              "      <th>2</th>\n",
              "      <td>Harbour View Gardens (East)\\nWisteria Mansion</td>\n",
              "      <td>28</td>\n",
              "      <td>C</td>\n",
              "      <td>1,046</td>\n",
              "      <td>1,137</td>\n",
              "      <td>885</td>\n",
              "      <td>8,459</td>\n",
              "      <td>7,784</td>\n",
              "      <td>2007-02-01</td>\n",
              "      <td>-26.2%</td>\n",
              "      <td>1997-04-24</td>\n",
              "    </tr>\n",
              "    <tr>\n",
              "      <th>3</th>\n",
              "      <td>Harbour View Gardens (East)\\nWisteria Mansion</td>\n",
              "      <td>28</td>\n",
              "      <td>C</td>\n",
              "      <td>1,046</td>\n",
              "      <td>1,137</td>\n",
              "      <td>1200</td>\n",
              "      <td>11,469</td>\n",
              "      <td>10,554</td>\n",
              "      <td>1997-04-24</td>\n",
              "      <td>+12.2%</td>\n",
              "      <td>1997-03-11</td>\n",
              "    </tr>\n",
              "    <tr>\n",
              "      <th>4</th>\n",
              "      <td>Harbour View Gardens (East)\\nWisteria Mansion</td>\n",
              "      <td>28</td>\n",
              "      <td>C</td>\n",
              "      <td>1,046</td>\n",
              "      <td>1,137</td>\n",
              "      <td>1070</td>\n",
              "      <td>10,227</td>\n",
              "      <td>9,411</td>\n",
              "      <td>1997-03-11</td>\n",
              "      <td>+13.2%</td>\n",
              "      <td>1996-12-10</td>\n",
              "    </tr>\n",
              "    <tr>\n",
              "      <th>5</th>\n",
              "      <td>Harbour View Gardens (East)\\nWisteria Mansion</td>\n",
              "      <td>28</td>\n",
              "      <td>C</td>\n",
              "      <td>1,046</td>\n",
              "      <td>1,137</td>\n",
              "      <td>945</td>\n",
              "      <td>9,032</td>\n",
              "      <td>8,311</td>\n",
              "      <td>1996-12-10</td>\n",
              "      <td>NaN</td>\n",
              "      <td>NaN</td>\n",
              "    </tr>\n",
              "  </tbody>\n",
              "</table>\n",
              "</div>"
            ],
            "text/plain": [
              "                                        Location  ... Last_Transaction_Date\n",
              "1  Harbour View Gardens (East)\\nWisteria Mansion  ...                   NaN\n",
              "2  Harbour View Gardens (East)\\nWisteria Mansion  ...            1997-04-24\n",
              "3  Harbour View Gardens (East)\\nWisteria Mansion  ...            1997-03-11\n",
              "4  Harbour View Gardens (East)\\nWisteria Mansion  ...            1996-12-10\n",
              "5  Harbour View Gardens (East)\\nWisteria Mansion  ...                   NaN\n",
              "\n",
              "[5 rows x 11 columns]"
            ]
          },
          "metadata": {},
          "execution_count": 15
        }
      ]
    },
    {
      "cell_type": "code",
      "metadata": {
        "colab": {
          "base_uri": "https://localhost:8080/"
        },
        "id": "CYAdQ3bM5xyV",
        "outputId": "3a2dc600-2097-4767-b155-b67e99ef142b"
      },
      "source": [
        "df.shape"
      ],
      "execution_count": 16,
      "outputs": [
        {
          "output_type": "execute_result",
          "data": {
            "text/plain": [
              "(257, 11)"
            ]
          },
          "metadata": {},
          "execution_count": 16
        }
      ]
    },
    {
      "cell_type": "code",
      "metadata": {
        "colab": {
          "base_uri": "https://localhost:8080/"
        },
        "id": "ploN5_6x6Opl",
        "outputId": "6e7fc3d9-68c4-4f62-a5de-65edc4f0f3ed"
      },
      "source": [
        "df.info()"
      ],
      "execution_count": 17,
      "outputs": [
        {
          "output_type": "stream",
          "name": "stdout",
          "text": [
            "<class 'pandas.core.frame.DataFrame'>\n",
            "Int64Index: 257 entries, 1 to 257\n",
            "Data columns (total 11 columns):\n",
            " #   Column                 Non-Null Count  Dtype \n",
            "---  ------                 --------------  ----- \n",
            " 0   Location               257 non-null    object\n",
            " 1   Floor                  257 non-null    object\n",
            " 2   Flat                   257 non-null    object\n",
            " 3   Saleable_Area          257 non-null    object\n",
            " 4   Gross_Area             257 non-null    object\n",
            " 5   Price                  257 non-null    object\n",
            " 6   Pricepft^2_Saleable    257 non-null    object\n",
            " 7   Pricepft^2_Gross       257 non-null    object\n",
            " 8   Transaction_date       257 non-null    object\n",
            " 9   Change                 132 non-null    object\n",
            " 10  Last_Transaction_Date  132 non-null    object\n",
            "dtypes: object(11)\n",
            "memory usage: 24.1+ KB\n"
          ]
        }
      ]
    },
    {
      "cell_type": "code",
      "metadata": {
        "colab": {
          "base_uri": "https://localhost:8080/"
        },
        "id": "14CZZwcn6OeC",
        "outputId": "789bd417-2315-489d-df69-dfd305f03da1"
      },
      "source": [
        "df.nunique()"
      ],
      "execution_count": 18,
      "outputs": [
        {
          "output_type": "execute_result",
          "data": {
            "text/plain": [
              "Location                   1\n",
              "Floor                     26\n",
              "Flat                       8\n",
              "Saleable_Area              7\n",
              "Gross_Area                 6\n",
              "Price                    202\n",
              "Pricepft^2_Saleable      243\n",
              "Pricepft^2_Gross         237\n",
              "Transaction_date         248\n",
              "Change                   129\n",
              "Last_Transaction_Date    129\n",
              "dtype: int64"
            ]
          },
          "metadata": {},
          "execution_count": 18
        }
      ]
    },
    {
      "cell_type": "code",
      "metadata": {
        "colab": {
          "base_uri": "https://localhost:8080/",
          "height": 247
        },
        "id": "6SilZJiB6OUH",
        "outputId": "79464ae3-a9cc-4cce-c0f9-b2480c9299f9"
      },
      "source": [
        "df.describe()"
      ],
      "execution_count": 19,
      "outputs": [
        {
          "output_type": "execute_result",
          "data": {
            "text/html": [
              "<div>\n",
              "<style scoped>\n",
              "    .dataframe tbody tr th:only-of-type {\n",
              "        vertical-align: middle;\n",
              "    }\n",
              "\n",
              "    .dataframe tbody tr th {\n",
              "        vertical-align: top;\n",
              "    }\n",
              "\n",
              "    .dataframe thead th {\n",
              "        text-align: right;\n",
              "    }\n",
              "</style>\n",
              "<table border=\"1\" class=\"dataframe\">\n",
              "  <thead>\n",
              "    <tr style=\"text-align: right;\">\n",
              "      <th></th>\n",
              "      <th>Location</th>\n",
              "      <th>Floor</th>\n",
              "      <th>Flat</th>\n",
              "      <th>Saleable_Area</th>\n",
              "      <th>Gross_Area</th>\n",
              "      <th>Price</th>\n",
              "      <th>Pricepft^2_Saleable</th>\n",
              "      <th>Pricepft^2_Gross</th>\n",
              "      <th>Transaction_date</th>\n",
              "      <th>Change</th>\n",
              "      <th>Last_Transaction_Date</th>\n",
              "    </tr>\n",
              "  </thead>\n",
              "  <tbody>\n",
              "    <tr>\n",
              "      <th>count</th>\n",
              "      <td>257</td>\n",
              "      <td>257</td>\n",
              "      <td>257</td>\n",
              "      <td>257</td>\n",
              "      <td>257</td>\n",
              "      <td>257</td>\n",
              "      <td>257</td>\n",
              "      <td>257</td>\n",
              "      <td>257</td>\n",
              "      <td>132</td>\n",
              "      <td>132</td>\n",
              "    </tr>\n",
              "    <tr>\n",
              "      <th>unique</th>\n",
              "      <td>1</td>\n",
              "      <td>26</td>\n",
              "      <td>8</td>\n",
              "      <td>7</td>\n",
              "      <td>6</td>\n",
              "      <td>202</td>\n",
              "      <td>243</td>\n",
              "      <td>237</td>\n",
              "      <td>248</td>\n",
              "      <td>129</td>\n",
              "      <td>129</td>\n",
              "    </tr>\n",
              "    <tr>\n",
              "      <th>top</th>\n",
              "      <td>Harbour View Gardens (East)\\nWisteria Mansion</td>\n",
              "      <td>6</td>\n",
              "      <td>H</td>\n",
              "      <td>1,114</td>\n",
              "      <td>1,237</td>\n",
              "      <td>980</td>\n",
              "      <td>9,556</td>\n",
              "      <td>8,531</td>\n",
              "      <td>2006-12-14</td>\n",
              "      <td>+37.6%</td>\n",
              "      <td>2006-12-14</td>\n",
              "    </tr>\n",
              "    <tr>\n",
              "      <th>freq</th>\n",
              "      <td>257</td>\n",
              "      <td>21</td>\n",
              "      <td>44</td>\n",
              "      <td>87</td>\n",
              "      <td>87</td>\n",
              "      <td>5</td>\n",
              "      <td>3</td>\n",
              "      <td>3</td>\n",
              "      <td>2</td>\n",
              "      <td>2</td>\n",
              "      <td>2</td>\n",
              "    </tr>\n",
              "  </tbody>\n",
              "</table>\n",
              "</div>"
            ],
            "text/plain": [
              "                                             Location  ... Last_Transaction_Date\n",
              "count                                             257  ...                   132\n",
              "unique                                              1  ...                   129\n",
              "top     Harbour View Gardens (East)\\nWisteria Mansion  ...            2006-12-14\n",
              "freq                                              257  ...                     2\n",
              "\n",
              "[4 rows x 11 columns]"
            ]
          },
          "metadata": {},
          "execution_count": 19
        }
      ]
    },
    {
      "cell_type": "code",
      "metadata": {
        "colab": {
          "base_uri": "https://localhost:8080/"
        },
        "id": "slh45JgE6OIm",
        "outputId": "9bbfea93-04c9-4c4c-d612-66ced4b9fa31"
      },
      "source": [
        "missing_values = df.isnull().sum()\n",
        "missing_values"
      ],
      "execution_count": 20,
      "outputs": [
        {
          "output_type": "execute_result",
          "data": {
            "text/plain": [
              "Location                   0\n",
              "Floor                      0\n",
              "Flat                       0\n",
              "Saleable_Area              0\n",
              "Gross_Area                 0\n",
              "Price                      0\n",
              "Pricepft^2_Saleable        0\n",
              "Pricepft^2_Gross           0\n",
              "Transaction_date           0\n",
              "Change                   125\n",
              "Last_Transaction_Date    125\n",
              "dtype: int64"
            ]
          },
          "metadata": {},
          "execution_count": 20
        }
      ]
    },
    {
      "cell_type": "code",
      "metadata": {
        "colab": {
          "base_uri": "https://localhost:8080/",
          "height": 389
        },
        "id": "61l7Dkxq6N73",
        "outputId": "cd5adc09-c2c8-464c-d647-047b5a838f41"
      },
      "source": [
        "import seaborn as sns\n",
        "missing_values = df.isnull()\n",
        "missing_values\n",
        "sns.heatmap(data = missing_values, cmap='viridis')"
      ],
      "execution_count": 23,
      "outputs": [
        {
          "output_type": "execute_result",
          "data": {
            "text/plain": [
              "<matplotlib.axes._subplots.AxesSubplot at 0x7fa02bb5b690>"
            ]
          },
          "metadata": {},
          "execution_count": 23
        },
        {
          "output_type": "display_data",
          "data": {
            "image/png": "[encoded data removed]",
            "text/plain": [
              "<Figure size 432x288 with 2 Axes>"
            ]
          },
          "metadata": {
            "needs_background": "light"
          }
        }
      ]
    },
    {
      "cell_type": "code",
      "metadata": {
        "colab": {
          "base_uri": "https://localhost:8080/",
          "height": 357
        },
        "id": "rB81_Mt06gqZ",
        "outputId": "8c07c48c-0868-4722-9aeb-616245987366"
      },
      "source": [
        "import seaborn as sns\n",
        "sns.set()\n",
        "sns.scatterplot(df['Price'], df['Floor'])"
      ],
      "execution_count": 25,
      "outputs": [
        {
          "output_type": "stream",
          "name": "stderr",
          "text": [
            "/usr/local/lib/python3.7/dist-packages/seaborn/_decorators.py:43: FutureWarning: Pass the following variables as keyword args: x, y. From version 0.12, the only valid positional argument will be `data`, and passing other arguments without an explicit keyword will result in an error or misinterpretation.\n",
            "  FutureWarning\n"
          ]
        },
        {
          "output_type": "execute_result",
          "data": {
            "text/plain": [
              "<matplotlib.axes._subplots.AxesSubplot at 0x7fa022ad2890>"
            ]
          },
          "metadata": {},
          "execution_count": 25
        },
        {
          "output_type": "display_data",
          "data": {
            "image/png": "[encoded data removed]",
            "text/plain": [
              "<Figure size 432x288 with 1 Axes>"
            ]
          },
          "metadata": {}
        }
      ]
    }
  ]
}